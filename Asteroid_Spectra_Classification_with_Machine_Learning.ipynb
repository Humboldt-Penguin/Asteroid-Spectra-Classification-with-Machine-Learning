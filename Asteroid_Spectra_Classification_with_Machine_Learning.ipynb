{
  "nbformat": 4,
  "nbformat_minor": 0,
  "metadata": {
    "colab": {
      "name": "Asteroid Spectra Classification with Machine Learning.ipynb",
      "provenance": [],
      "authorship_tag": "ABX9TyNHNERzIuEWe5M6tVtoC2cU",
      "include_colab_link": true
    },
    "kernelspec": {
      "name": "python3",
      "display_name": "Python 3"
    },
    "language_info": {
      "name": "python"
    },
    "widgets": {
      "application/vnd.jupyter.widget-state+json": {
        "a648abb18b2d4c7a9a301a20c95b7b7d": {
          "model_module": "@jupyter-widgets/controls",
          "model_name": "VBoxModel",
          "model_module_version": "1.5.0",
          "state": {
            "_view_name": "VBoxView",
            "_dom_classes": [
              "widget-interact"
            ],
            "_model_name": "VBoxModel",
            "_view_module": "@jupyter-widgets/controls",
            "_model_module_version": "1.5.0",
            "_view_count": null,
            "_view_module_version": "1.5.0",
            "box_style": "",
            "layout": "IPY_MODEL_e474d16c2cde4ee890f775ccc70ab9a8",
            "_model_module": "@jupyter-widgets/controls",
            "children": [
              "IPY_MODEL_2b4136dba8f04803808c146a42deb726",
              "IPY_MODEL_b1f48d06a5b14897aa28beed84007f5a",
              "IPY_MODEL_f26990e17f884a8e95fc495399f60edc",
              "IPY_MODEL_ace7ceee7a20406abb24be3ae66c2b28"
            ]
          }
        },
        "e474d16c2cde4ee890f775ccc70ab9a8": {
          "model_module": "@jupyter-widgets/base",
          "model_name": "LayoutModel",
          "model_module_version": "1.2.0",
          "state": {
            "_view_name": "LayoutView",
            "grid_template_rows": null,
            "right": null,
            "justify_content": null,
            "_view_module": "@jupyter-widgets/base",
            "overflow": null,
            "_model_module_version": "1.2.0",
            "_view_count": null,
            "flex_flow": null,
            "width": null,
            "min_width": null,
            "border": null,
            "align_items": null,
            "bottom": null,
            "_model_module": "@jupyter-widgets/base",
            "top": null,
            "grid_column": null,
            "overflow_y": null,
            "overflow_x": null,
            "grid_auto_flow": null,
            "grid_area": null,
            "grid_template_columns": null,
            "flex": null,
            "_model_name": "LayoutModel",
            "justify_items": null,
            "grid_row": null,
            "max_height": null,
            "align_content": null,
            "visibility": null,
            "align_self": null,
            "height": null,
            "min_height": null,
            "padding": null,
            "grid_auto_rows": null,
            "grid_gap": null,
            "max_width": null,
            "order": null,
            "_view_module_version": "1.2.0",
            "grid_template_areas": null,
            "object_position": null,
            "object_fit": null,
            "grid_auto_columns": null,
            "margin": null,
            "display": null,
            "left": null
          }
        },
        "2b4136dba8f04803808c146a42deb726": {
          "model_module": "@jupyter-widgets/controls",
          "model_name": "DropdownModel",
          "model_module_version": "1.5.0",
          "state": {
            "_options_labels": [
              "Bus_Class",
              "Main_Group"
            ],
            "_view_name": "DropdownView",
            "style": "IPY_MODEL_02afe4ed1331420ba24d170265892598",
            "_dom_classes": [],
            "description": "top_class",
            "_model_name": "DropdownModel",
            "index": 0,
            "_view_module": "@jupyter-widgets/controls",
            "_model_module_version": "1.5.0",
            "_view_count": null,
            "disabled": false,
            "_view_module_version": "1.5.0",
            "description_tooltip": null,
            "_model_module": "@jupyter-widgets/controls",
            "layout": "IPY_MODEL_2c2a0ce41ec64ca8bb75ea25983fbeb7"
          }
        },
        "b1f48d06a5b14897aa28beed84007f5a": {
          "model_module": "@jupyter-widgets/controls",
          "model_name": "DropdownModel",
          "model_module_version": "1.5.0",
          "state": {
            "_options_labels": [
              "A",
              "B",
              "C",
              "Cb",
              "Cg",
              "Cgh",
              "Ch",
              "D",
              "K",
              "L",
              "Ld",
              "O",
              "R",
              "S",
              "Sa",
              "Sk",
              "Sl",
              "Sq",
              "Sr",
              "T",
              "V",
              "X",
              "Xc",
              "Xe",
              "Xk"
            ],
            "_view_name": "DropdownView",
            "style": "IPY_MODEL_d8f0b0a217e14e90b30a6ede642b12be",
            "_dom_classes": [],
            "description": "sub_class",
            "_model_name": "DropdownModel",
            "index": 0,
            "_view_module": "@jupyter-widgets/controls",
            "_model_module_version": "1.5.0",
            "_view_count": null,
            "disabled": false,
            "_view_module_version": "1.5.0",
            "description_tooltip": null,
            "_model_module": "@jupyter-widgets/controls",
            "layout": "IPY_MODEL_43e659599f834846b3f227839e872920"
          }
        },
        "f26990e17f884a8e95fc495399f60edc": {
          "model_module": "@jupyter-widgets/controls",
          "model_name": "CheckboxModel",
          "model_module_version": "1.5.0",
          "state": {
            "_view_name": "CheckboxView",
            "style": "IPY_MODEL_c74ee174afae402da1ea42dddfcc8780",
            "_dom_classes": [],
            "description": "ylim_fixed",
            "_model_name": "CheckboxModel",
            "_view_module": "@jupyter-widgets/controls",
            "_model_module_version": "1.5.0",
            "value": false,
            "_view_count": null,
            "disabled": false,
            "_view_module_version": "1.5.0",
            "indent": true,
            "description_tooltip": null,
            "_model_module": "@jupyter-widgets/controls",
            "layout": "IPY_MODEL_bc65a164dbea4baa83a17f2cb68f4362"
          }
        },
        "ace7ceee7a20406abb24be3ae66c2b28": {
          "model_module": "@jupyter-widgets/output",
          "model_name": "OutputModel",
          "model_module_version": "1.0.0",
          "state": {
            "_view_name": "OutputView",
            "msg_id": "",
            "_dom_classes": [],
            "_model_name": "OutputModel",
            "outputs": [
              {
                "output_type": "stream",
                "name": "stdout",
                "text": [
                  "Number of (Bus_Class) A spectra: 1339.0\n"
                ]
              },
              {
                "output_type": "display_data",
                "data": {
                  "image/png": "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\n",
                  "text/plain": "<Figure size 1440x576 with 1 Axes>"
                },
                "metadata": {}
              }
            ],
            "_view_module": "@jupyter-widgets/output",
            "_model_module_version": "1.0.0",
            "_view_count": null,
            "_view_module_version": "1.0.0",
            "layout": "IPY_MODEL_bbb37ec44621452e81dc38055cdc15e5",
            "_model_module": "@jupyter-widgets/output"
          }
        },
        "02afe4ed1331420ba24d170265892598": {
          "model_module": "@jupyter-widgets/controls",
          "model_name": "DescriptionStyleModel",
          "model_module_version": "1.5.0",
          "state": {
            "_view_name": "StyleView",
            "_model_name": "DescriptionStyleModel",
            "description_width": "",
            "_view_module": "@jupyter-widgets/base",
            "_model_module_version": "1.5.0",
            "_view_count": null,
            "_view_module_version": "1.2.0",
            "_model_module": "@jupyter-widgets/controls"
          }
        },
        "2c2a0ce41ec64ca8bb75ea25983fbeb7": {
          "model_module": "@jupyter-widgets/base",
          "model_name": "LayoutModel",
          "model_module_version": "1.2.0",
          "state": {
            "_view_name": "LayoutView",
            "grid_template_rows": null,
            "right": null,
            "justify_content": null,
            "_view_module": "@jupyter-widgets/base",
            "overflow": null,
            "_model_module_version": "1.2.0",
            "_view_count": null,
            "flex_flow": null,
            "width": null,
            "min_width": null,
            "border": null,
            "align_items": null,
            "bottom": null,
            "_model_module": "@jupyter-widgets/base",
            "top": null,
            "grid_column": null,
            "overflow_y": null,
            "overflow_x": null,
            "grid_auto_flow": null,
            "grid_area": null,
            "grid_template_columns": null,
            "flex": null,
            "_model_name": "LayoutModel",
            "justify_items": null,
            "grid_row": null,
            "max_height": null,
            "align_content": null,
            "visibility": null,
            "align_self": null,
            "height": null,
            "min_height": null,
            "padding": null,
            "grid_auto_rows": null,
            "grid_gap": null,
            "max_width": null,
            "order": null,
            "_view_module_version": "1.2.0",
            "grid_template_areas": null,
            "object_position": null,
            "object_fit": null,
            "grid_auto_columns": null,
            "margin": null,
            "display": null,
            "left": null
          }
        },
        "d8f0b0a217e14e90b30a6ede642b12be": {
          "model_module": "@jupyter-widgets/controls",
          "model_name": "DescriptionStyleModel",
          "model_module_version": "1.5.0",
          "state": {
            "_view_name": "StyleView",
            "_model_name": "DescriptionStyleModel",
            "description_width": "",
            "_view_module": "@jupyter-widgets/base",
            "_model_module_version": "1.5.0",
            "_view_count": null,
            "_view_module_version": "1.2.0",
            "_model_module": "@jupyter-widgets/controls"
          }
        },
        "43e659599f834846b3f227839e872920": {
          "model_module": "@jupyter-widgets/base",
          "model_name": "LayoutModel",
          "model_module_version": "1.2.0",
          "state": {
            "_view_name": "LayoutView",
            "grid_template_rows": null,
            "right": null,
            "justify_content": null,
            "_view_module": "@jupyter-widgets/base",
            "overflow": null,
            "_model_module_version": "1.2.0",
            "_view_count": null,
            "flex_flow": null,
            "width": null,
            "min_width": null,
            "border": null,
            "align_items": null,
            "bottom": null,
            "_model_module": "@jupyter-widgets/base",
            "top": null,
            "grid_column": null,
            "overflow_y": null,
            "overflow_x": null,
            "grid_auto_flow": null,
            "grid_area": null,
            "grid_template_columns": null,
            "flex": null,
            "_model_name": "LayoutModel",
            "justify_items": null,
            "grid_row": null,
            "max_height": null,
            "align_content": null,
            "visibility": null,
            "align_self": null,
            "height": null,
            "min_height": null,
            "padding": null,
            "grid_auto_rows": null,
            "grid_gap": null,
            "max_width": null,
            "order": null,
            "_view_module_version": "1.2.0",
            "grid_template_areas": null,
            "object_position": null,
            "object_fit": null,
            "grid_auto_columns": null,
            "margin": null,
            "display": null,
            "left": null
          }
        },
        "c74ee174afae402da1ea42dddfcc8780": {
          "model_module": "@jupyter-widgets/controls",
          "model_name": "DescriptionStyleModel",
          "model_module_version": "1.5.0",
          "state": {
            "_view_name": "StyleView",
            "_model_name": "DescriptionStyleModel",
            "description_width": "",
            "_view_module": "@jupyter-widgets/base",
            "_model_module_version": "1.5.0",
            "_view_count": null,
            "_view_module_version": "1.2.0",
            "_model_module": "@jupyter-widgets/controls"
          }
        },
        "bc65a164dbea4baa83a17f2cb68f4362": {
          "model_module": "@jupyter-widgets/base",
          "model_name": "LayoutModel",
          "model_module_version": "1.2.0",
          "state": {
            "_view_name": "LayoutView",
            "grid_template_rows": null,
            "right": null,
            "justify_content": null,
            "_view_module": "@jupyter-widgets/base",
            "overflow": null,
            "_model_module_version": "1.2.0",
            "_view_count": null,
            "flex_flow": null,
            "width": null,
            "min_width": null,
            "border": null,
            "align_items": null,
            "bottom": null,
            "_model_module": "@jupyter-widgets/base",
            "top": null,
            "grid_column": null,
            "overflow_y": null,
            "overflow_x": null,
            "grid_auto_flow": null,
            "grid_area": null,
            "grid_template_columns": null,
            "flex": null,
            "_model_name": "LayoutModel",
            "justify_items": null,
            "grid_row": null,
            "max_height": null,
            "align_content": null,
            "visibility": null,
            "align_self": null,
            "height": null,
            "min_height": null,
            "padding": null,
            "grid_auto_rows": null,
            "grid_gap": null,
            "max_width": null,
            "order": null,
            "_view_module_version": "1.2.0",
            "grid_template_areas": null,
            "object_position": null,
            "object_fit": null,
            "grid_auto_columns": null,
            "margin": null,
            "display": null,
            "left": null
          }
        },
        "bbb37ec44621452e81dc38055cdc15e5": {
          "model_module": "@jupyter-widgets/base",
          "model_name": "LayoutModel",
          "model_module_version": "1.2.0",
          "state": {
            "_view_name": "LayoutView",
            "grid_template_rows": null,
            "right": null,
            "justify_content": null,
            "_view_module": "@jupyter-widgets/base",
            "overflow": null,
            "_model_module_version": "1.2.0",
            "_view_count": null,
            "flex_flow": null,
            "width": null,
            "min_width": null,
            "border": null,
            "align_items": null,
            "bottom": null,
            "_model_module": "@jupyter-widgets/base",
            "top": null,
            "grid_column": null,
            "overflow_y": null,
            "overflow_x": null,
            "grid_auto_flow": null,
            "grid_area": null,
            "grid_template_columns": null,
            "flex": null,
            "_model_name": "LayoutModel",
            "justify_items": null,
            "grid_row": null,
            "max_height": null,
            "align_content": null,
            "visibility": null,
            "align_self": null,
            "height": null,
            "min_height": null,
            "padding": null,
            "grid_auto_rows": null,
            "grid_gap": null,
            "max_width": null,
            "order": null,
            "_view_module_version": "1.2.0",
            "grid_template_areas": null,
            "object_position": null,
            "object_fit": null,
            "grid_auto_columns": null,
            "margin": null,
            "display": null,
            "left": null
          }
        }
      }
    }
  },
  "cells": [
    {
      "cell_type": "markdown",
      "metadata": {
        "id": "view-in-github",
        "colab_type": "text"
      },
      "source": [
        "<a href=\"https://colab.research.google.com/github/Humboldt-Penguin/Asteroid-Spectra-Classification-with-Machine-Learning/blob/main/Asteroid_Spectra_Classification_with_Machine_Learning.ipynb\" target=\"_parent\"><img src=\"https://colab.research.google.com/assets/colab-badge.svg\" alt=\"Open In Colab\"/></a>"
      ]
    },
    {
      "cell_type": "markdown",
      "source": [
        "# 0. Background"
      ],
      "metadata": {
        "id": "c5sLJm6rXedu"
      }
    },
    {
      "cell_type": "markdown",
      "source": [
        "Asteroids appear like dots in a telescope. If they approach our planet quite close one can use radars to determine their size and shape quite well. The rest of the time scientists can \"only\" determine their brightness, indirectly their size, and orbit around the Sun (and other intrinsic parameters). That's it!\n",
        "\n",
        "\\\n",
        "\n",
        "But one can also determine the spectrum of an asteroid: E.g., by determining the reflectance of the surface for different wavelengths. These reflectance spectra allow scientists to determine the composition of the object. In total, there are 4 \"main groups\":\n",
        "\n",
        "1. C: Carbonaceous Asteroid, most common in the Solar System with... well you guess it, carbon-like compositions\n",
        "\n",
        "2. S: ... like \"stony\" asteroids, silicates, minerals, etc. dominate the surface\n",
        "\n",
        "3. X: -class asteroids are mostly classified as \"iron\" asteroids (no these are not pure \"iron rocks\" but show a high abundance of iron, nickel, etc.\n",
        "\n",
        "4. Other: Outliers with rare or unique compositions\n",
        "\n",
        "\\\n",
        "\n",
        "These main groups are the most common ones. Other classification systems by Bus et al., Tholen et al. and so on introduce more classes and differentiate them to up to 20 classes and more."
      ],
      "metadata": {
        "id": "_3nJ7uxdXnB_"
      }
    },
    {
      "cell_type": "markdown",
      "source": [
        "## Motivation: \n",
        "\n",
        "Bus et al. classified over 1200 spectra by hand (20 years ago), so we test Machine Learning algorithms on these data for classification purposes. This project includes fetching and parsing the data, to trainings of multi class Support Vector Machines (SVMs) using scikit-learn. Later, we can programm a small Feed-Forward and 1D Convolutional Neural Network using Keras to compress the spectra to a 2-dimensional space, to see whether \"spectra clusters\" appear that can be associated with these arbitrary classification schemas. \n"
      ],
      "metadata": {
        "id": "euhLs888YGhP"
      }
    },
    {
      "cell_type": "markdown",
      "source": [
        "## Abstract:\n",
        "This data science and machine learning project is about classifying asteroid taxonomy spectra. We use over 1,000 spectra from [1] to train miscellaneous models to e.g., distinguish between the X class and non X class; to perform multi-label classification and unsupervised clustering using autoencoders."
      ],
      "metadata": {
        "id": "4tiAxFVrZhut"
      }
    },
    {
      "cell_type": "markdown",
      "source": [
        "---\n",
        "# 1. Fetch Data\n",
        "\n",
        "This section downloads all required asteroid taxonomy data. The data are from [1] and the corresponding classification schema has been defined by [2]. Further, the downloaded files are extracted."
      ],
      "metadata": {
        "id": "3qnge98aYRI-"
      }
    },
    {
      "cell_type": "code",
      "source": [
        "import hashlib\n",
        "import os\n",
        "import pathlib\n",
        "import tarfile\n",
        "import urllib.request"
      ],
      "metadata": {
        "id": "JkqYMuuJYrxS"
      },
      "execution_count": 1,
      "outputs": []
    },
    {
      "cell_type": "code",
      "source": [
        "# Mount  Google Drive for file/model storage\n",
        "try:\n",
        "    from google.colab import drive\n",
        "    drive.mount('/gdrive')\n",
        "    core_path = \"/gdrive/MyDrive/Colab/asteroid_taxonomy/\"\n",
        "except ModuleNotFoundError:\n",
        "    core_path = \"\""
      ],
      "metadata": {
        "colab": {
          "base_uri": "https://localhost:8080/"
        },
        "id": "xDF-zNtxZuDE",
        "outputId": "bad3907b-1cf3-4fd9-d8f6-316b7de4115a"
      },
      "execution_count": 2,
      "outputs": [
        {
          "output_type": "stream",
          "name": "stdout",
          "text": [
            "Mounted at /gdrive\n"
          ]
        }
      ]
    },
    {
      "cell_type": "code",
      "source": [
        "# Define function to compute the sha256 value of the downloaded files\n",
        "def comp_sha256(file_name):\n",
        "    \"\"\"\n",
        "    Compute the SHA256 hash of a file.\n",
        "    Parameters\n",
        "    ----------\n",
        "    file_name : str\n",
        "        Absolute or relative pathname of the file that shall be parsed.\n",
        "    Returns\n",
        "    -------\n",
        "    sha256_res : str\n",
        "        Resulting SHA256 hash.\n",
        "    \"\"\"\n",
        "    # Set the SHA256 hashing\n",
        "    hash_sha256 = hashlib.sha256()\n",
        "\n",
        "    # Open the file in binary mode (read-only) and parse it in 65,536 byte chunks (in case of\n",
        "    # large files, the loading will not exceed the usable RAM)\n",
        "    with pathlib.Path(file_name).open(mode=\"rb\") as f_temp:\n",
        "        for _seq in iter(lambda: f_temp.read(65536), b\"\"):\n",
        "            hash_sha256.update(_seq)\n",
        "\n",
        "    # Digest the SHA256 result\n",
        "    sha256_res = hash_sha256.hexdigest()\n",
        "\n",
        "    return sha256_res"
      ],
      "metadata": {
        "id": "g5hgyGXHZ0tz"
      },
      "execution_count": 3,
      "outputs": []
    },
    {
      "cell_type": "code",
      "source": [
        "# Create the level0 data directory\n",
        "pathlib.Path(os.path.join(core_path, \"data/lvl0/\")).mkdir(parents=True, exist_ok=True)"
      ],
      "metadata": {
        "id": "Ia9OuvSMZ3nB"
      },
      "execution_count": 4,
      "outputs": []
    },
    {
      "cell_type": "code",
      "source": [
        "# Set a dictionary that contains the taxonomy classification data and corresponding sha256 values\n",
        "files_to_dl = \\\n",
        "    {'file1': {'url': 'http://smass.mit.edu/data/smass/Bus.Taxonomy.txt',\n",
        "               'sha256': '0ce970a6972dd7c49d512848b9736d00b621c9d6395a035bd1b4f3780d4b56c6'},\n",
        "     'file2': {'url': 'http://smass.mit.edu/data/smass/smass2data.tar.gz',\n",
        "               'sha256': 'dacf575eb1403c08bdfbffcd5dbfe12503a588e09b04ed19cc4572584a57fa97'}}"
      ],
      "metadata": {
        "id": "e0OsouteZ551"
      },
      "execution_count": 5,
      "outputs": []
    },
    {
      "cell_type": "code",
      "source": [
        "# Iterate through the dictionary and download the files\n",
        "for dl_key in files_to_dl:\n",
        "\n",
        "    # Get the URL and create a download filepath by splitting it at the last \"/\"\n",
        "    split = urllib.parse.urlsplit(files_to_dl[dl_key][\"url\"])\n",
        "    filename = pathlib.Path(os.path.join(core_path, \"data/lvl0/\", split.path.split(\"/\")[-1]))\n",
        "\n",
        "    # Download file if it is not available\n",
        "    if not filename.is_file():\n",
        "\n",
        "        print(f\"Downloading now: {files_to_dl[dl_key]['url']}\")\n",
        "\n",
        "        # Download file and retrieve the created filepath\n",
        "        downl_file_path, _ = urllib.request.urlretrieve(url=files_to_dl[dl_key][\"url\"],\n",
        "                                                        filename=filename)\n",
        "\n",
        "        # Compute and compare the hash value\n",
        "        TAX_HASH = comp_sha256(downl_file_path)\n",
        "        assert TAX_HASH == files_to_dl[dl_key][\"sha256\"]"
      ],
      "metadata": {
        "colab": {
          "base_uri": "https://localhost:8080/"
        },
        "id": "5oEla4ZtZ9Mi",
        "outputId": "7bdf7891-636f-40f4-b35a-fb3dfe7b5c54"
      },
      "execution_count": 6,
      "outputs": [
        {
          "output_type": "stream",
          "name": "stdout",
          "text": [
            "Downloading now: http://smass.mit.edu/data/smass/Bus.Taxonomy.txt\n",
            "Downloading now: http://smass.mit.edu/data/smass/smass2data.tar.gz\n"
          ]
        }
      ]
    },
    {
      "cell_type": "code",
      "source": [
        "# Untar the spectra data\n",
        "tar = tarfile.open(os.path.join(core_path, \"data/lvl0/\", \"smass2data.tar.gz\"), \"r:gz\")\n",
        "tar.extractall(os.path.join(core_path, \"data/lvl0/\"))\n",
        "tar.close()"
      ],
      "metadata": {
        "id": "RwJe_PHrZ-kh"
      },
      "execution_count": 7,
      "outputs": []
    },
    {
      "cell_type": "markdown",
      "source": [
        "---\n",
        "# 2. Parse Data\n",
        "\n",
        "This section takes now the downloaded files, parses and cleans the data and merges the taxonomy classification with the spectra data. The final dataset is stored in a Level 1 directory for further computations. Further, a first clean up is performed."
      ],
      "metadata": {
        "id": "3nFIPdgQbwbS"
      }
    },
    {
      "cell_type": "markdown",
      "source": [
        "## 2.1. Setup"
      ],
      "metadata": {
        "id": "XU0od0V8cBAz"
      }
    },
    {
      "cell_type": "code",
      "source": [
        "# Import standard libraries\n",
        "import glob\n",
        "import os\n",
        "import pathlib\n",
        "import re\n",
        "\n",
        "# Import installed libraries\n",
        "import pandas as pd"
      ],
      "metadata": {
        "id": "UL_klYb3b6Zz"
      },
      "execution_count": 8,
      "outputs": []
    },
    {
      "cell_type": "code",
      "source": [
        "try:\n",
        "    from google.colab import drive\n",
        "    drive.mount('/gdrive')\n",
        "    core_path = \"/gdrive/MyDrive/Colab/asteroid_taxonomy/\"\n",
        "except ModuleNotFoundError:\n",
        "    core_path = \"\""
      ],
      "metadata": {
        "colab": {
          "base_uri": "https://localhost:8080/"
        },
        "id": "iUMEHXBUb730",
        "outputId": "c7ef9cc5-adf4-462d-de8f-fb830180bdc5"
      },
      "execution_count": 9,
      "outputs": [
        {
          "output_type": "stream",
          "name": "stdout",
          "text": [
            "Drive already mounted at /gdrive; to attempt to forcibly remount, call drive.mount(\"/gdrive\", force_remount=True).\n"
          ]
        }
      ]
    },
    {
      "cell_type": "code",
      "source": [
        "# Get a sorted list of all spectra files (consider only the spfit files that have been explained in\n",
        "# the references)\n",
        "spectra_filepaths = sorted(glob.glob(os.path.join(core_path, \"data/lvl0/\", \"smass2/*spfit*\")))"
      ],
      "metadata": {
        "id": "ujZxPRBzb-FE"
      },
      "execution_count": 10,
      "outputs": []
    },
    {
      "cell_type": "markdown",
      "source": [
        "## 2.2. Asteroid Designation Separation\n",
        "The spectra data have 2 different naming conventions starting with an \"a\" and starting with an \"au\". The first case corresponds to asteroids with an actual designation number (like (1) Ceres). The second case contains only temporary (at the time of the data release) designations (like 1995 BM2). Later, these spectra data need to be joined with the taxonomy class file\n",
        "\n"
      ],
      "metadata": {
        "id": "ZQliKNBYcAd2"
      }
    },
    {
      "cell_type": "code",
      "source": [
        "# Separate the filepaths into designation and non-designation files\n",
        "des_file_paths = spectra_filepaths[:-8]\n",
        "non_file_paths = spectra_filepaths[-8:]\n",
        "\n",
        "# Convert the arrays to dataframes\n",
        "des_file_paths_df = pd.DataFrame(des_file_paths, columns=[\"FilePath\"])\n",
        "non_file_paths_df = pd.DataFrame(non_file_paths, columns=[\"FilePath\"])"
      ],
      "metadata": {
        "id": "1RJo7BiIcI5r"
      },
      "execution_count": 11,
      "outputs": []
    },
    {
      "cell_type": "code",
      "source": [
        "# Add now the designation / \"non\"-designation number\n",
        "des_file_paths_df.loc[:, \"DesNr\"] = des_file_paths_df[\"FilePath\"] \\\n",
        "                                        .apply(lambda x: int(re.search(r'smass2/a(.*).spfit',\n",
        "                                                                       x).group(1)))\n",
        "non_file_paths_df.loc[:, \"DesNr\"] = non_file_paths_df[\"FilePath\"] \\\n",
        "                                        .apply(lambda x: re.search(r'smass2/au(.*).spfit',\n",
        "                                                                   x).group(1))"
      ],
      "metadata": {
        "id": "aKdRj7jTcOyh"
      },
      "execution_count": 12,
      "outputs": []
    },
    {
      "cell_type": "markdown",
      "source": [
        "## 2.3. Taxonomy Classification\n",
        "\n",
        "Now we read the taxonomy classification file. Theoretically, the file has only 3 columns (asteroid name, Tholen & Bus Classification) with a rather large header. However, due to some formatting errors and the usage of white spaces as well as tabulator tabs, Pandas identifies 5 columns in total.\n",
        "\n",
        "Since one cannot assign these \"unknown\" classes correctly to either Tholen nor Bus, the corresponding rows are deleted later.\n",
        "\n"
      ],
      "metadata": {
        "id": "Ghze3paEcQK1"
      }
    },
    {
      "cell_type": "code",
      "source": [
        "# Read the classification file\n",
        "asteroid_class_df = pd.read_csv(\n",
        "                                os.path.join(core_path, \"data/lvl0/\", \"Bus.Taxonomy.txt\"),\n",
        "                                skiprows=21,\n",
        "                                sep=\"\\t\",\n",
        "                                names=[\n",
        "                                       \"Name\",\n",
        "                                       \"Tholen_Class\",\n",
        "                                       \"Bus_Class\",\n",
        "                                       \"unknown1\",\n",
        "                                       \"unknown2\"\n",
        "                                      ]\n",
        "                               )\n",
        "\n",
        "# Remove white spaces\n",
        "asteroid_class_df.loc[:, \"Name\"] = asteroid_class_df[\"Name\"].apply(lambda x: x.strip()).copy()\n",
        "\n",
        "# Separate between designated and non-designated asteroid classes\n",
        "des_ast_class_df = asteroid_class_df[:1403].copy()\n",
        "non_ast_class_df = asteroid_class_df[1403:].copy()"
      ],
      "metadata": {
        "id": "4mhMRaencSiW"
      },
      "execution_count": 13,
      "outputs": []
    },
    {
      "cell_type": "code",
      "source": [
        "# Now split the designated names and get the designation number (to link with the spfit files)\n",
        "des_ast_class_df.loc[:, \"DesNr\"] = des_ast_class_df[\"Name\"].apply(lambda x: int(x.split(\" \")[0]))\n",
        "\n",
        "# Merge with the spectra file paths\n",
        "des_ast_class_join_df = des_ast_class_df.merge(des_file_paths_df, on=\"DesNr\")\n",
        "\n",
        "# For the non designated names, one needs to remove the white space between number and name and\n",
        "# compare with the file paths\n",
        "non_ast_class_df.loc[:, \"DesNr\"] = non_ast_class_df[\"Name\"].apply(lambda x: x.replace(\" \", \"\"))\n",
        "\n",
        "# Merge with the spectra file paths\n",
        "non_ast_class_join_df = non_ast_class_df.merge(non_file_paths_df, on=\"DesNr\")"
      ],
      "metadata": {
        "id": "MUl4oiCkcbAN"
      },
      "execution_count": 14,
      "outputs": []
    },
    {
      "cell_type": "code",
      "source": [
        "# Merge now both datasets\n",
        "asteroids_df = pd.concat([des_ast_class_join_df, non_ast_class_join_df], axis=0)\n",
        "\n",
        "# Reset the index\n",
        "asteroids_df.reset_index(drop=True, inplace=True)\n",
        "\n",
        "# Remove the tholen class and both unknown columns\n",
        "asteroids_df.drop(columns=[\"Tholen_Class\", \"unknown1\", \"unknown2\"], inplace=True)\n",
        "\n",
        "# Drop now all rows that do not contains a Bus Class\n",
        "asteroids_df.dropna(subset=[\"Bus_Class\"], inplace=True)"
      ],
      "metadata": {
        "id": "ukR1hCrJccvV"
      },
      "execution_count": 15,
      "outputs": []
    },
    {
      "cell_type": "markdown",
      "source": [
        "## 2.4. Read and store the Spectra into a Dataframe"
      ],
      "metadata": {
        "id": "FEUrVS0bceUW"
      }
    },
    {
      "cell_type": "code",
      "source": [
        "# Read and store the spectra\n",
        "asteroids_df.loc[:, \"SpectrumDF\"] = \\\n",
        "    asteroids_df[\"FilePath\"].apply(\n",
        "                                   lambda x: pd.read_csv(x, sep=\"\\t\",\n",
        "                                                         names=[\n",
        "                                                                \"Wavelength_in_microm\",\n",
        "                                                                \"Reflectance_norm550nm\"\n",
        "                                                               ]\n",
        "                                                        )\n",
        "                                  )\n",
        "# Reset the index\n",
        "asteroids_df.reset_index(drop=True, inplace=True)\n",
        "\n",
        "# Convert the Designation Number to string\n",
        "asteroids_df.loc[:, \"DesNr\"] = asteroids_df[\"DesNr\"].astype(str)"
      ],
      "metadata": {
        "id": "UymdbMLGckYC"
      },
      "execution_count": 16,
      "outputs": []
    },
    {
      "cell_type": "code",
      "source": [
        "# Create (if applicable) the level 1 directory\n",
        "pathlib.Path(os.path.join(core_path, \"data/lvl1\")).mkdir(parents=True, exist_ok=True)\n",
        "\n",
        "# Save the dataframe as a pickle file\n",
        "asteroids_df.to_pickle(os.path.join(core_path, \"data/lvl1/\", \"asteroids_merged.pkl\"), protocol=4)"
      ],
      "metadata": {
        "id": "L5HUzGCxcmRp"
      },
      "execution_count": 17,
      "outputs": []
    },
    {
      "cell_type": "markdown",
      "source": [
        "---\n",
        "# 3. Data Enrichment\n",
        "\n",
        "This section is not about feature creation (for an ML algorithm), but to enrich the asteroid dataframe with more, additional information.\n",
        "\n"
      ],
      "metadata": {
        "id": "lKcuKvqqdLiB"
      }
    },
    {
      "cell_type": "markdown",
      "source": [
        "## 3.1. Setup"
      ],
      "metadata": {
        "id": "_auvgtmNdk-J"
      }
    },
    {
      "cell_type": "code",
      "source": [
        "# Import standard libraries\n",
        "import os\n",
        "import pathlib\n",
        "\n",
        "# Import installed libraries\n",
        "import pandas as pd"
      ],
      "metadata": {
        "id": "vRpW3zrZdqDj"
      },
      "execution_count": 18,
      "outputs": []
    },
    {
      "cell_type": "code",
      "source": [
        "# Let's mount the Google Drive, where we store files and models (if applicable, otherwise work\n",
        "# locally)\n",
        "try:\n",
        "    from google.colab import drive\n",
        "    drive.mount('/gdrive')\n",
        "    core_path = \"/gdrive/MyDrive/Colab/asteroid_taxonomy/\"\n",
        "except ModuleNotFoundError:\n",
        "    core_path = \"\""
      ],
      "metadata": {
        "colab": {
          "base_uri": "https://localhost:8080/"
        },
        "id": "tgc6Rgw6ds0d",
        "outputId": "8eaf4b5c-b877-480a-b608-7079f53e43d6"
      },
      "execution_count": 19,
      "outputs": [
        {
          "output_type": "stream",
          "name": "stdout",
          "text": [
            "Drive already mounted at /gdrive; to attempt to forcibly remount, call drive.mount(\"/gdrive\", force_remount=True).\n"
          ]
        }
      ]
    },
    {
      "cell_type": "code",
      "source": [
        "# Read the level 1 dataframe\n",
        "asteroids_df = pd.read_pickle(os.path.join(core_path, \"data/lvl1/\", \"asteroids_merged.pkl\"))"
      ],
      "metadata": {
        "id": "E2sjC0Q-dvwL"
      },
      "execution_count": 20,
      "outputs": []
    },
    {
      "cell_type": "markdown",
      "source": [
        "## 3.2. Bus classification to Main group"
      ],
      "metadata": {
        "id": "6Sbe497UdyN9"
      }
    },
    {
      "cell_type": "markdown",
      "source": [
        "A great summary of asteroid classification schemas, the science behind it and some historical context can be found [here](https://vissiniti.com/asteroid-classification/). One flow chart shows the link between miscellaneous classification schemas. On the right side the flow chart merges into a general \"main group\". These groups are:\n",
        "\n",
        "* C: Carbonaceous asteroids\n",
        "* S: Silicaceous (stony) asteroids\n",
        "* X: Metallic asteroids\n",
        "* Other: Miscellaneous types of rare origin / composition; or even unknown composition like T-Asteroids\n",
        "\n",
        "<p align=center>\n",
        "    <img src=\"https://i0.wp.com/vissiniti.com/wp-content/uploads/2019/07/Asteroid-Classification-Chapman-Tholen-to-Bus-to-BusDeMeo-v4-1.jpg?resize=768%2C403&ssl=1\"\n",
        "</p>"
      ],
      "metadata": {
        "id": "UMVD-4fMeD6Q"
      }
    },
    {
      "cell_type": "code",
      "source": [
        "# Create a dictionary that maps the Bus Classification with the main group\n",
        "bus_to_main_dict = {\n",
        "                    'A': 'Other',\n",
        "                    'B': 'C',\n",
        "                    'C': 'C',\n",
        "                    'Cb': 'C',\n",
        "                    'Cg': 'C',\n",
        "                    'Cgh': 'C',\n",
        "                    'Ch': 'C',\n",
        "                    'D': 'Other',\n",
        "                    'K': 'Other',\n",
        "                    'L': 'Other',\n",
        "                    'Ld': 'Other',\n",
        "                    'O': 'Other',\n",
        "                    'R': 'Other',\n",
        "                    'S': 'S',\n",
        "                    'Sa': 'S',\n",
        "                    'Sk': 'S',\n",
        "                    'Sl': 'S',\n",
        "                    'Sq': 'S',\n",
        "                    'Sr': 'S',\n",
        "                    'T': 'Other',\n",
        "                    'V': 'Other',\n",
        "                    'X': 'X',\n",
        "                    'Xc': 'X',\n",
        "                    'Xe': 'X',\n",
        "                    'Xk': 'X'\n",
        "                   }\n",
        "\n",
        "# Create a new \"main group class\"\n",
        "asteroids_df.loc[:, \"Main_Group\"] = asteroids_df[\"Bus_Class\"].apply(lambda x:\n",
        "                                                                    bus_to_main_dict.get(x, \"None\"))\n",
        "\n",
        "# Remove the file path and Designation Number\n",
        "asteroids_df.drop(columns=[\"DesNr\", \"FilePath\"], inplace=True)\n",
        "\n",
        "# Show the final data set for funsies ...\n",
        "asteroids_df"
      ],
      "metadata": {
        "colab": {
          "base_uri": "https://localhost:8080/",
          "height": 424
        },
        "id": "WyGFUS0WfUM2",
        "outputId": "2446d1ee-fd1f-454a-e86d-e6a8014e9176"
      },
      "execution_count": 22,
      "outputs": [
        {
          "output_type": "execute_result",
          "data": {
            "text/html": [
              "\n",
              "  <div id=\"df-2f24ef7f-0a8a-4b24-ba8e-944b0d9cae6c\">\n",
              "    <div class=\"colab-df-container\">\n",
              "      <div>\n",
              "<style scoped>\n",
              "    .dataframe tbody tr th:only-of-type {\n",
              "        vertical-align: middle;\n",
              "    }\n",
              "\n",
              "    .dataframe tbody tr th {\n",
              "        vertical-align: top;\n",
              "    }\n",
              "\n",
              "    .dataframe thead th {\n",
              "        text-align: right;\n",
              "    }\n",
              "</style>\n",
              "<table border=\"1\" class=\"dataframe\">\n",
              "  <thead>\n",
              "    <tr style=\"text-align: right;\">\n",
              "      <th></th>\n",
              "      <th>Name</th>\n",
              "      <th>Bus_Class</th>\n",
              "      <th>SpectrumDF</th>\n",
              "      <th>Main_Group</th>\n",
              "    </tr>\n",
              "  </thead>\n",
              "  <tbody>\n",
              "    <tr>\n",
              "      <th>0</th>\n",
              "      <td>1 Ceres</td>\n",
              "      <td>C</td>\n",
              "      <td>Wavelength_in_microm  Reflectance_norm550n...</td>\n",
              "      <td>C</td>\n",
              "    </tr>\n",
              "    <tr>\n",
              "      <th>1</th>\n",
              "      <td>2 Pallas</td>\n",
              "      <td>B</td>\n",
              "      <td>Wavelength_in_microm  Reflectance_norm550n...</td>\n",
              "      <td>C</td>\n",
              "    </tr>\n",
              "    <tr>\n",
              "      <th>2</th>\n",
              "      <td>3 Juno</td>\n",
              "      <td>Sk</td>\n",
              "      <td>Wavelength_in_microm  Reflectance_norm550n...</td>\n",
              "      <td>S</td>\n",
              "    </tr>\n",
              "    <tr>\n",
              "      <th>3</th>\n",
              "      <td>4 Vesta</td>\n",
              "      <td>V</td>\n",
              "      <td>Wavelength_in_microm  Reflectance_norm550n...</td>\n",
              "      <td>Other</td>\n",
              "    </tr>\n",
              "    <tr>\n",
              "      <th>4</th>\n",
              "      <td>5 Astraea</td>\n",
              "      <td>S</td>\n",
              "      <td>Wavelength_in_microm  Reflectance_norm550n...</td>\n",
              "      <td>S</td>\n",
              "    </tr>\n",
              "    <tr>\n",
              "      <th>...</th>\n",
              "      <td>...</td>\n",
              "      <td>...</td>\n",
              "      <td>...</td>\n",
              "      <td>...</td>\n",
              "    </tr>\n",
              "    <tr>\n",
              "      <th>1334</th>\n",
              "      <td>1996 UK</td>\n",
              "      <td>Sq</td>\n",
              "      <td>Wavelength_in_microm  Reflectance_norm550n...</td>\n",
              "      <td>S</td>\n",
              "    </tr>\n",
              "    <tr>\n",
              "      <th>1335</th>\n",
              "      <td>1996 VC</td>\n",
              "      <td>S</td>\n",
              "      <td>Wavelength_in_microm  Reflectance_norm550n...</td>\n",
              "      <td>S</td>\n",
              "    </tr>\n",
              "    <tr>\n",
              "      <th>1336</th>\n",
              "      <td>1997 CZ5</td>\n",
              "      <td>S</td>\n",
              "      <td>Wavelength_in_microm  Reflectance_norm550n...</td>\n",
              "      <td>S</td>\n",
              "    </tr>\n",
              "    <tr>\n",
              "      <th>1337</th>\n",
              "      <td>1997 RD1</td>\n",
              "      <td>Sq</td>\n",
              "      <td>Wavelength_in_microm  Reflectance_norm550n...</td>\n",
              "      <td>S</td>\n",
              "    </tr>\n",
              "    <tr>\n",
              "      <th>1338</th>\n",
              "      <td>1998 WS</td>\n",
              "      <td>Sr</td>\n",
              "      <td>Wavelength_in_microm  Reflectance_norm550n...</td>\n",
              "      <td>S</td>\n",
              "    </tr>\n",
              "  </tbody>\n",
              "</table>\n",
              "<p>1339 rows × 4 columns</p>\n",
              "</div>\n",
              "      <button class=\"colab-df-convert\" onclick=\"convertToInteractive('df-2f24ef7f-0a8a-4b24-ba8e-944b0d9cae6c')\"\n",
              "              title=\"Convert this dataframe to an interactive table.\"\n",
              "              style=\"display:none;\">\n",
              "        \n",
              "  <svg xmlns=\"http://www.w3.org/2000/svg\" height=\"24px\"viewBox=\"0 0 24 24\"\n",
              "       width=\"24px\">\n",
              "    <path d=\"M0 0h24v24H0V0z\" fill=\"none\"/>\n",
              "    <path d=\"M18.56 5.44l.94 2.06.94-2.06 2.06-.94-2.06-.94-.94-2.06-.94 2.06-2.06.94zm-11 1L8.5 8.5l.94-2.06 2.06-.94-2.06-.94L8.5 2.5l-.94 2.06-2.06.94zm10 10l.94 2.06.94-2.06 2.06-.94-2.06-.94-.94-2.06-.94 2.06-2.06.94z\"/><path d=\"M17.41 7.96l-1.37-1.37c-.4-.4-.92-.59-1.43-.59-.52 0-1.04.2-1.43.59L10.3 9.45l-7.72 7.72c-.78.78-.78 2.05 0 2.83L4 21.41c.39.39.9.59 1.41.59.51 0 1.02-.2 1.41-.59l7.78-7.78 2.81-2.81c.8-.78.8-2.07 0-2.86zM5.41 20L4 18.59l7.72-7.72 1.47 1.35L5.41 20z\"/>\n",
              "  </svg>\n",
              "      </button>\n",
              "      \n",
              "  <style>\n",
              "    .colab-df-container {\n",
              "      display:flex;\n",
              "      flex-wrap:wrap;\n",
              "      gap: 12px;\n",
              "    }\n",
              "\n",
              "    .colab-df-convert {\n",
              "      background-color: #E8F0FE;\n",
              "      border: none;\n",
              "      border-radius: 50%;\n",
              "      cursor: pointer;\n",
              "      display: none;\n",
              "      fill: #1967D2;\n",
              "      height: 32px;\n",
              "      padding: 0 0 0 0;\n",
              "      width: 32px;\n",
              "    }\n",
              "\n",
              "    .colab-df-convert:hover {\n",
              "      background-color: #E2EBFA;\n",
              "      box-shadow: 0px 1px 2px rgba(60, 64, 67, 0.3), 0px 1px 3px 1px rgba(60, 64, 67, 0.15);\n",
              "      fill: #174EA6;\n",
              "    }\n",
              "\n",
              "    [theme=dark] .colab-df-convert {\n",
              "      background-color: #3B4455;\n",
              "      fill: #D2E3FC;\n",
              "    }\n",
              "\n",
              "    [theme=dark] .colab-df-convert:hover {\n",
              "      background-color: #434B5C;\n",
              "      box-shadow: 0px 1px 3px 1px rgba(0, 0, 0, 0.15);\n",
              "      filter: drop-shadow(0px 1px 2px rgba(0, 0, 0, 0.3));\n",
              "      fill: #FFFFFF;\n",
              "    }\n",
              "  </style>\n",
              "\n",
              "      <script>\n",
              "        const buttonEl =\n",
              "          document.querySelector('#df-2f24ef7f-0a8a-4b24-ba8e-944b0d9cae6c button.colab-df-convert');\n",
              "        buttonEl.style.display =\n",
              "          google.colab.kernel.accessAllowed ? 'block' : 'none';\n",
              "\n",
              "        async function convertToInteractive(key) {\n",
              "          const element = document.querySelector('#df-2f24ef7f-0a8a-4b24-ba8e-944b0d9cae6c');\n",
              "          const dataTable =\n",
              "            await google.colab.kernel.invokeFunction('convertToInteractive',\n",
              "                                                     [key], {});\n",
              "          if (!dataTable) return;\n",
              "\n",
              "          const docLinkHtml = 'Like what you see? Visit the ' +\n",
              "            '<a target=\"_blank\" href=https://colab.research.google.com/notebooks/data_table.ipynb>data table notebook</a>'\n",
              "            + ' to learn more about interactive tables.';\n",
              "          element.innerHTML = '';\n",
              "          dataTable['output_type'] = 'display_data';\n",
              "          await google.colab.output.renderOutput(dataTable, element);\n",
              "          const docLink = document.createElement('div');\n",
              "          docLink.innerHTML = docLinkHtml;\n",
              "          element.appendChild(docLink);\n",
              "        }\n",
              "      </script>\n",
              "    </div>\n",
              "  </div>\n",
              "  "
            ],
            "text/plain": [
              "           Name  ... Main_Group\n",
              "0       1 Ceres  ...          C\n",
              "1      2 Pallas  ...          C\n",
              "2        3 Juno  ...          S\n",
              "3       4 Vesta  ...      Other\n",
              "4     5 Astraea  ...          S\n",
              "...         ...  ...        ...\n",
              "1334    1996 UK  ...          S\n",
              "1335    1996 VC  ...          S\n",
              "1336   1997 CZ5  ...          S\n",
              "1337   1997 RD1  ...          S\n",
              "1338    1998 WS  ...          S\n",
              "\n",
              "[1339 rows x 4 columns]"
            ]
          },
          "metadata": {},
          "execution_count": 22
        }
      ]
    },
    {
      "cell_type": "code",
      "source": [
        "# ... and also the spectrum of Ceres\n",
        "asteroids_df.loc[asteroids_df[\"Name\"] == \"1 Ceres\"][\"SpectrumDF\"][0]"
      ],
      "metadata": {
        "colab": {
          "base_uri": "https://localhost:8080/",
          "height": 1000
        },
        "id": "JjQCgtGqfefC",
        "outputId": "c66d55fb-ffd5-425f-95b7-d3bdf23096a1"
      },
      "execution_count": 23,
      "outputs": [
        {
          "output_type": "execute_result",
          "data": {
            "text/html": [
              "\n",
              "  <div id=\"df-7ec4dba8-0009-45f2-a9c8-f43bbc831971\">\n",
              "    <div class=\"colab-df-container\">\n",
              "      <div>\n",
              "<style scoped>\n",
              "    .dataframe tbody tr th:only-of-type {\n",
              "        vertical-align: middle;\n",
              "    }\n",
              "\n",
              "    .dataframe tbody tr th {\n",
              "        vertical-align: top;\n",
              "    }\n",
              "\n",
              "    .dataframe thead th {\n",
              "        text-align: right;\n",
              "    }\n",
              "</style>\n",
              "<table border=\"1\" class=\"dataframe\">\n",
              "  <thead>\n",
              "    <tr style=\"text-align: right;\">\n",
              "      <th></th>\n",
              "      <th>Wavelength_in_microm</th>\n",
              "      <th>Reflectance_norm550nm</th>\n",
              "    </tr>\n",
              "  </thead>\n",
              "  <tbody>\n",
              "    <tr>\n",
              "      <th>0</th>\n",
              "      <td>0.44</td>\n",
              "      <td>0.9281</td>\n",
              "    </tr>\n",
              "    <tr>\n",
              "      <th>1</th>\n",
              "      <td>0.45</td>\n",
              "      <td>0.9388</td>\n",
              "    </tr>\n",
              "    <tr>\n",
              "      <th>2</th>\n",
              "      <td>0.46</td>\n",
              "      <td>0.9488</td>\n",
              "    </tr>\n",
              "    <tr>\n",
              "      <th>3</th>\n",
              "      <td>0.47</td>\n",
              "      <td>0.9572</td>\n",
              "    </tr>\n",
              "    <tr>\n",
              "      <th>4</th>\n",
              "      <td>0.48</td>\n",
              "      <td>0.9643</td>\n",
              "    </tr>\n",
              "    <tr>\n",
              "      <th>5</th>\n",
              "      <td>0.49</td>\n",
              "      <td>0.9716</td>\n",
              "    </tr>\n",
              "    <tr>\n",
              "      <th>6</th>\n",
              "      <td>0.50</td>\n",
              "      <td>0.9788</td>\n",
              "    </tr>\n",
              "    <tr>\n",
              "      <th>7</th>\n",
              "      <td>0.51</td>\n",
              "      <td>0.9859</td>\n",
              "    </tr>\n",
              "    <tr>\n",
              "      <th>8</th>\n",
              "      <td>0.52</td>\n",
              "      <td>0.9923</td>\n",
              "    </tr>\n",
              "    <tr>\n",
              "      <th>9</th>\n",
              "      <td>0.53</td>\n",
              "      <td>0.9955</td>\n",
              "    </tr>\n",
              "    <tr>\n",
              "      <th>10</th>\n",
              "      <td>0.54</td>\n",
              "      <td>0.9969</td>\n",
              "    </tr>\n",
              "    <tr>\n",
              "      <th>11</th>\n",
              "      <td>0.55</td>\n",
              "      <td>1.0000</td>\n",
              "    </tr>\n",
              "    <tr>\n",
              "      <th>12</th>\n",
              "      <td>0.56</td>\n",
              "      <td>1.0040</td>\n",
              "    </tr>\n",
              "    <tr>\n",
              "      <th>13</th>\n",
              "      <td>0.57</td>\n",
              "      <td>1.0056</td>\n",
              "    </tr>\n",
              "    <tr>\n",
              "      <th>14</th>\n",
              "      <td>0.58</td>\n",
              "      <td>1.0037</td>\n",
              "    </tr>\n",
              "    <tr>\n",
              "      <th>15</th>\n",
              "      <td>0.59</td>\n",
              "      <td>1.0036</td>\n",
              "    </tr>\n",
              "    <tr>\n",
              "      <th>16</th>\n",
              "      <td>0.60</td>\n",
              "      <td>1.0044</td>\n",
              "    </tr>\n",
              "    <tr>\n",
              "      <th>17</th>\n",
              "      <td>0.61</td>\n",
              "      <td>1.0071</td>\n",
              "    </tr>\n",
              "    <tr>\n",
              "      <th>18</th>\n",
              "      <td>0.62</td>\n",
              "      <td>1.0107</td>\n",
              "    </tr>\n",
              "    <tr>\n",
              "      <th>19</th>\n",
              "      <td>0.63</td>\n",
              "      <td>1.0113</td>\n",
              "    </tr>\n",
              "    <tr>\n",
              "      <th>20</th>\n",
              "      <td>0.64</td>\n",
              "      <td>1.0117</td>\n",
              "    </tr>\n",
              "    <tr>\n",
              "      <th>21</th>\n",
              "      <td>0.65</td>\n",
              "      <td>1.0127</td>\n",
              "    </tr>\n",
              "    <tr>\n",
              "      <th>22</th>\n",
              "      <td>0.66</td>\n",
              "      <td>1.0128</td>\n",
              "    </tr>\n",
              "    <tr>\n",
              "      <th>23</th>\n",
              "      <td>0.67</td>\n",
              "      <td>1.0124</td>\n",
              "    </tr>\n",
              "    <tr>\n",
              "      <th>24</th>\n",
              "      <td>0.68</td>\n",
              "      <td>1.0151</td>\n",
              "    </tr>\n",
              "    <tr>\n",
              "      <th>25</th>\n",
              "      <td>0.69</td>\n",
              "      <td>1.0160</td>\n",
              "    </tr>\n",
              "    <tr>\n",
              "      <th>26</th>\n",
              "      <td>0.70</td>\n",
              "      <td>1.0146</td>\n",
              "    </tr>\n",
              "    <tr>\n",
              "      <th>27</th>\n",
              "      <td>0.71</td>\n",
              "      <td>1.0178</td>\n",
              "    </tr>\n",
              "    <tr>\n",
              "      <th>28</th>\n",
              "      <td>0.72</td>\n",
              "      <td>1.0222</td>\n",
              "    </tr>\n",
              "    <tr>\n",
              "      <th>29</th>\n",
              "      <td>0.73</td>\n",
              "      <td>1.0216</td>\n",
              "    </tr>\n",
              "    <tr>\n",
              "      <th>30</th>\n",
              "      <td>0.74</td>\n",
              "      <td>1.0191</td>\n",
              "    </tr>\n",
              "    <tr>\n",
              "      <th>31</th>\n",
              "      <td>0.75</td>\n",
              "      <td>1.0179</td>\n",
              "    </tr>\n",
              "    <tr>\n",
              "      <th>32</th>\n",
              "      <td>0.76</td>\n",
              "      <td>1.0167</td>\n",
              "    </tr>\n",
              "    <tr>\n",
              "      <th>33</th>\n",
              "      <td>0.77</td>\n",
              "      <td>1.0149</td>\n",
              "    </tr>\n",
              "    <tr>\n",
              "      <th>34</th>\n",
              "      <td>0.78</td>\n",
              "      <td>1.0161</td>\n",
              "    </tr>\n",
              "    <tr>\n",
              "      <th>35</th>\n",
              "      <td>0.79</td>\n",
              "      <td>1.0176</td>\n",
              "    </tr>\n",
              "    <tr>\n",
              "      <th>36</th>\n",
              "      <td>0.80</td>\n",
              "      <td>1.0178</td>\n",
              "    </tr>\n",
              "    <tr>\n",
              "      <th>37</th>\n",
              "      <td>0.81</td>\n",
              "      <td>1.0196</td>\n",
              "    </tr>\n",
              "    <tr>\n",
              "      <th>38</th>\n",
              "      <td>0.82</td>\n",
              "      <td>1.0200</td>\n",
              "    </tr>\n",
              "    <tr>\n",
              "      <th>39</th>\n",
              "      <td>0.83</td>\n",
              "      <td>1.0164</td>\n",
              "    </tr>\n",
              "    <tr>\n",
              "      <th>40</th>\n",
              "      <td>0.84</td>\n",
              "      <td>1.0135</td>\n",
              "    </tr>\n",
              "    <tr>\n",
              "      <th>41</th>\n",
              "      <td>0.85</td>\n",
              "      <td>1.0140</td>\n",
              "    </tr>\n",
              "    <tr>\n",
              "      <th>42</th>\n",
              "      <td>0.86</td>\n",
              "      <td>1.0147</td>\n",
              "    </tr>\n",
              "    <tr>\n",
              "      <th>43</th>\n",
              "      <td>0.87</td>\n",
              "      <td>1.0151</td>\n",
              "    </tr>\n",
              "    <tr>\n",
              "      <th>44</th>\n",
              "      <td>0.88</td>\n",
              "      <td>1.0142</td>\n",
              "    </tr>\n",
              "    <tr>\n",
              "      <th>45</th>\n",
              "      <td>0.89</td>\n",
              "      <td>1.0146</td>\n",
              "    </tr>\n",
              "    <tr>\n",
              "      <th>46</th>\n",
              "      <td>0.90</td>\n",
              "      <td>1.0165</td>\n",
              "    </tr>\n",
              "    <tr>\n",
              "      <th>47</th>\n",
              "      <td>0.91</td>\n",
              "      <td>1.0181</td>\n",
              "    </tr>\n",
              "    <tr>\n",
              "      <th>48</th>\n",
              "      <td>0.92</td>\n",
              "      <td>1.0200</td>\n",
              "    </tr>\n",
              "  </tbody>\n",
              "</table>\n",
              "</div>\n",
              "      <button class=\"colab-df-convert\" onclick=\"convertToInteractive('df-7ec4dba8-0009-45f2-a9c8-f43bbc831971')\"\n",
              "              title=\"Convert this dataframe to an interactive table.\"\n",
              "              style=\"display:none;\">\n",
              "        \n",
              "  <svg xmlns=\"http://www.w3.org/2000/svg\" height=\"24px\"viewBox=\"0 0 24 24\"\n",
              "       width=\"24px\">\n",
              "    <path d=\"M0 0h24v24H0V0z\" fill=\"none\"/>\n",
              "    <path d=\"M18.56 5.44l.94 2.06.94-2.06 2.06-.94-2.06-.94-.94-2.06-.94 2.06-2.06.94zm-11 1L8.5 8.5l.94-2.06 2.06-.94-2.06-.94L8.5 2.5l-.94 2.06-2.06.94zm10 10l.94 2.06.94-2.06 2.06-.94-2.06-.94-.94-2.06-.94 2.06-2.06.94z\"/><path d=\"M17.41 7.96l-1.37-1.37c-.4-.4-.92-.59-1.43-.59-.52 0-1.04.2-1.43.59L10.3 9.45l-7.72 7.72c-.78.78-.78 2.05 0 2.83L4 21.41c.39.39.9.59 1.41.59.51 0 1.02-.2 1.41-.59l7.78-7.78 2.81-2.81c.8-.78.8-2.07 0-2.86zM5.41 20L4 18.59l7.72-7.72 1.47 1.35L5.41 20z\"/>\n",
              "  </svg>\n",
              "      </button>\n",
              "      \n",
              "  <style>\n",
              "    .colab-df-container {\n",
              "      display:flex;\n",
              "      flex-wrap:wrap;\n",
              "      gap: 12px;\n",
              "    }\n",
              "\n",
              "    .colab-df-convert {\n",
              "      background-color: #E8F0FE;\n",
              "      border: none;\n",
              "      border-radius: 50%;\n",
              "      cursor: pointer;\n",
              "      display: none;\n",
              "      fill: #1967D2;\n",
              "      height: 32px;\n",
              "      padding: 0 0 0 0;\n",
              "      width: 32px;\n",
              "    }\n",
              "\n",
              "    .colab-df-convert:hover {\n",
              "      background-color: #E2EBFA;\n",
              "      box-shadow: 0px 1px 2px rgba(60, 64, 67, 0.3), 0px 1px 3px 1px rgba(60, 64, 67, 0.15);\n",
              "      fill: #174EA6;\n",
              "    }\n",
              "\n",
              "    [theme=dark] .colab-df-convert {\n",
              "      background-color: #3B4455;\n",
              "      fill: #D2E3FC;\n",
              "    }\n",
              "\n",
              "    [theme=dark] .colab-df-convert:hover {\n",
              "      background-color: #434B5C;\n",
              "      box-shadow: 0px 1px 3px 1px rgba(0, 0, 0, 0.15);\n",
              "      filter: drop-shadow(0px 1px 2px rgba(0, 0, 0, 0.3));\n",
              "      fill: #FFFFFF;\n",
              "    }\n",
              "  </style>\n",
              "\n",
              "      <script>\n",
              "        const buttonEl =\n",
              "          document.querySelector('#df-7ec4dba8-0009-45f2-a9c8-f43bbc831971 button.colab-df-convert');\n",
              "        buttonEl.style.display =\n",
              "          google.colab.kernel.accessAllowed ? 'block' : 'none';\n",
              "\n",
              "        async function convertToInteractive(key) {\n",
              "          const element = document.querySelector('#df-7ec4dba8-0009-45f2-a9c8-f43bbc831971');\n",
              "          const dataTable =\n",
              "            await google.colab.kernel.invokeFunction('convertToInteractive',\n",
              "                                                     [key], {});\n",
              "          if (!dataTable) return;\n",
              "\n",
              "          const docLinkHtml = 'Like what you see? Visit the ' +\n",
              "            '<a target=\"_blank\" href=https://colab.research.google.com/notebooks/data_table.ipynb>data table notebook</a>'\n",
              "            + ' to learn more about interactive tables.';\n",
              "          element.innerHTML = '';\n",
              "          dataTable['output_type'] = 'display_data';\n",
              "          await google.colab.output.renderOutput(dataTable, element);\n",
              "          const docLink = document.createElement('div');\n",
              "          docLink.innerHTML = docLinkHtml;\n",
              "          element.appendChild(docLink);\n",
              "        }\n",
              "      </script>\n",
              "    </div>\n",
              "  </div>\n",
              "  "
            ],
            "text/plain": [
              "    Wavelength_in_microm  Reflectance_norm550nm\n",
              "0                   0.44                 0.9281\n",
              "1                   0.45                 0.9388\n",
              "2                   0.46                 0.9488\n",
              "3                   0.47                 0.9572\n",
              "4                   0.48                 0.9643\n",
              "5                   0.49                 0.9716\n",
              "6                   0.50                 0.9788\n",
              "7                   0.51                 0.9859\n",
              "8                   0.52                 0.9923\n",
              "9                   0.53                 0.9955\n",
              "10                  0.54                 0.9969\n",
              "11                  0.55                 1.0000\n",
              "12                  0.56                 1.0040\n",
              "13                  0.57                 1.0056\n",
              "14                  0.58                 1.0037\n",
              "15                  0.59                 1.0036\n",
              "16                  0.60                 1.0044\n",
              "17                  0.61                 1.0071\n",
              "18                  0.62                 1.0107\n",
              "19                  0.63                 1.0113\n",
              "20                  0.64                 1.0117\n",
              "21                  0.65                 1.0127\n",
              "22                  0.66                 1.0128\n",
              "23                  0.67                 1.0124\n",
              "24                  0.68                 1.0151\n",
              "25                  0.69                 1.0160\n",
              "26                  0.70                 1.0146\n",
              "27                  0.71                 1.0178\n",
              "28                  0.72                 1.0222\n",
              "29                  0.73                 1.0216\n",
              "30                  0.74                 1.0191\n",
              "31                  0.75                 1.0179\n",
              "32                  0.76                 1.0167\n",
              "33                  0.77                 1.0149\n",
              "34                  0.78                 1.0161\n",
              "35                  0.79                 1.0176\n",
              "36                  0.80                 1.0178\n",
              "37                  0.81                 1.0196\n",
              "38                  0.82                 1.0200\n",
              "39                  0.83                 1.0164\n",
              "40                  0.84                 1.0135\n",
              "41                  0.85                 1.0140\n",
              "42                  0.86                 1.0147\n",
              "43                  0.87                 1.0151\n",
              "44                  0.88                 1.0142\n",
              "45                  0.89                 1.0146\n",
              "46                  0.90                 1.0165\n",
              "47                  0.91                 1.0181\n",
              "48                  0.92                 1.0200"
            ]
          },
          "metadata": {},
          "execution_count": 23
        }
      ]
    },
    {
      "cell_type": "code",
      "source": [
        "# Create Level 2 directory and save the dataframe\n",
        "pathlib.Path(os.path.join(core_path, \"data/lvl2\")).mkdir(parents=True, exist_ok=True)\n",
        "\n",
        "# Save the dataframe as a pickle file\n",
        "asteroids_df.to_pickle(os.path.join(core_path, \"data/lvl2/\", \"asteroids.pkl\"), protocol=4)"
      ],
      "metadata": {
        "id": "-i1ZsbhNfi59"
      },
      "execution_count": 24,
      "outputs": []
    },
    {
      "cell_type": "markdown",
      "source": [
        "---\n",
        "# 4. Spectra Analysis"
      ],
      "metadata": {
        "id": "Y0FMb_h7fumd"
      }
    },
    {
      "cell_type": "markdown",
      "source": [
        "## 4.1. Spectra View\n",
        "Now that we have parsed the data, let's take a look at some overlapping spectra views of the Bus and Main Group classification schema to get a feeling of the data we are working with."
      ],
      "metadata": {
        "id": "e2qq414Ofx4Y"
      }
    },
    {
      "cell_type": "markdown",
      "source": [
        "### 4.1.1. Setup"
      ],
      "metadata": {
        "id": "RSCYSXqqgOFo"
      }
    },
    {
      "cell_type": "code",
      "source": [
        "# Import standard libraries\n",
        "import os\n",
        "\n",
        "# Import installed libraries\n",
        "import ipywidgets\n",
        "from matplotlib import pyplot as plt\n",
        "import pandas as pd"
      ],
      "metadata": {
        "id": "76OLywoUf4ue"
      },
      "execution_count": 25,
      "outputs": []
    },
    {
      "cell_type": "code",
      "source": [
        "try:\n",
        "    from google.colab import drive\n",
        "    drive.mount('/gdrive')\n",
        "    core_path = \"/gdrive/MyDrive/Colab/asteroid_taxonomy/\"\n",
        "except ModuleNotFoundError:\n",
        "    core_path = \"\""
      ],
      "metadata": {
        "colab": {
          "base_uri": "https://localhost:8080/"
        },
        "id": "Hqr_Kp2CgNaL",
        "outputId": "8edaffe1-63ae-4adb-e078-3d3221ad6dda"
      },
      "execution_count": 26,
      "outputs": [
        {
          "output_type": "stream",
          "name": "stdout",
          "text": [
            "Drive already mounted at /gdrive; to attempt to forcibly remount, call drive.mount(\"/gdrive\", force_remount=True).\n"
          ]
        }
      ]
    },
    {
      "cell_type": "code",
      "source": [
        "# Read the data\n",
        "asteroids_df = pd.read_pickle(os.path.join(core_path, \"data/lvl2/\", \"asteroids.pkl\"))"
      ],
      "metadata": {
        "id": "_xaq4-jVgVSd"
      },
      "execution_count": 27,
      "outputs": []
    },
    {
      "cell_type": "markdown",
      "source": [
        "### 4.1.2. Plot individual Bus-Class spectra\n",
        "The following code block allows one to plot Bus-Classes and Main Group spectra, merged into a single figure"
      ],
      "metadata": {
        "id": "-Ynlqa0_gf29"
      }
    },
    {
      "cell_type": "code",
      "source": [
        "# First we set up some nice interactive widgets\n",
        "top_class_widget = ipywidgets.Dropdown(options = ['Bus_Class', 'Main_Group'])\n",
        "sub_class_widget = ipywidgets.Dropdown()\n",
        "\n",
        "# Define a function that updates the content of the sub class based on the top class selection\n",
        "def update_sub_class(*args):\n",
        "    sub_class_widget.options = sorted(asteroids_df[top_class_widget.value].unique())\n",
        "top_class_widget.observe(update_sub_class)\n",
        "\n",
        "# Set the dark mode and the font size and style\n",
        "plt.style.use('dark_background')\n",
        "plt.rc('font', family='serif', size=18)\n",
        "\n",
        "# Set a function for the (interactive) plots\n",
        "def plot_single_spec(top_class, sub_class, ylim_fixed=False):\n",
        "    \n",
        "    # Create a \"wide screen figure\"\n",
        "    plt.figure(figsize=(20,8))\n",
        "\n",
        "    # Get the number of available spectra. This value is later used to adjust the alpha value ...\n",
        "    nr_of_spec = float(len(asteroids_df[top_class]==sub_class))\n",
        "\n",
        "    print(f\"Number of ({top_class}) {sub_class} spectra: {nr_of_spec}\")\n",
        "    \n",
        "    # ... however we do not want to exaggerate it with the transperancy!\n",
        "    if nr_of_spec > 10:\n",
        "        nr_of_spec = 10\n",
        "\n",
        "    # Iterate trough the spectra and plot them\n",
        "    for k in asteroids_df.loc[asteroids_df[top_class]==sub_class][\"SpectrumDF\"]:\n",
        "        plt.plot(k[\"Wavelength_in_microm\"], k[\"Reflectance_norm550nm\"], alpha=1.0/nr_of_spec, color='#ccebc4')\n",
        "\n",
        "    # Set labels\n",
        "    plt.xlabel(\"Wavelength in micrometer\")\n",
        "    plt.ylabel(\"Reflectance w.r.t. 0.55 micrometer\")\n",
        "\n",
        "    # Set a fixed y limit range if requested\n",
        "    if ylim_fixed:\n",
        "        plt.ylim(0.5, 1.5)\n",
        "\n",
        "    # Set the x limits\n",
        "    plt.xlim(min(k[\"Wavelength_in_microm\"]), max(k[\"Wavelength_in_microm\"]))\n",
        "\n",
        "    plt.show()\n",
        "\n",
        "# Create an interactive session!\n",
        "ipywidgets.interactive(plot_single_spec, top_class=top_class_widget, sub_class=sub_class_widget, ylim_fixed=False)"
      ],
      "metadata": {
        "colab": {
          "base_uri": "https://localhost:8080/",
          "height": 626,
          "referenced_widgets": [
            "a648abb18b2d4c7a9a301a20c95b7b7d",
            "e474d16c2cde4ee890f775ccc70ab9a8",
            "2b4136dba8f04803808c146a42deb726",
            "b1f48d06a5b14897aa28beed84007f5a",
            "f26990e17f884a8e95fc495399f60edc",
            "ace7ceee7a20406abb24be3ae66c2b28",
            "02afe4ed1331420ba24d170265892598",
            "2c2a0ce41ec64ca8bb75ea25983fbeb7",
            "d8f0b0a217e14e90b30a6ede642b12be",
            "43e659599f834846b3f227839e872920",
            "c74ee174afae402da1ea42dddfcc8780",
            "bc65a164dbea4baa83a17f2cb68f4362",
            "bbb37ec44621452e81dc38055cdc15e5"
          ]
        },
        "id": "kPVJwIW-gjja",
        "outputId": "7cbaa8d7-8d66-4cd2-aaae-c634975e2413"
      },
      "execution_count": 28,
      "outputs": [
        {
          "output_type": "display_data",
          "data": {
            "application/vnd.jupyter.widget-view+json": {
              "model_id": "a648abb18b2d4c7a9a301a20c95b7b7d",
              "version_minor": 0,
              "version_major": 2
            },
            "text/plain": [
              "interactive(children=(Dropdown(description='top_class', options=('Bus_Class', 'Main_Group'), value='Bus_Class'…"
            ]
          },
          "metadata": {}
        }
      ]
    },
    {
      "cell_type": "markdown",
      "source": [
        "## 4.2. Statistics\n",
        "How does the classification distribution look like? How are the Bus Classes and corresponding Main Groups distributed? In total we have like 1,400 spectra that shall be used for training, verification and testing. It is likely that we cannot use the Bus Classes, but the Main ones. Otherwise the algorithm might get too biased."
      ],
      "metadata": {
        "id": "Wo_NRgg9gu4N"
      }
    },
    {
      "cell_type": "markdown",
      "source": [
        "### 4.2.1. Setup"
      ],
      "metadata": {
        "id": "T65LtxxSg4d-"
      }
    },
    {
      "cell_type": "code",
      "source": [
        "# Import standard libraries\n",
        "import os\n",
        "\n",
        "# Import installed libraries\n",
        "import ipywidgets\n",
        "from matplotlib import pyplot as plt\n",
        "import pandas as pd"
      ],
      "metadata": {
        "id": "0RPclQ1bg0Tn"
      },
      "execution_count": 29,
      "outputs": []
    },
    {
      "cell_type": "code",
      "source": [
        "try:\n",
        "    from google.colab import drive\n",
        "    drive.mount('/gdrive')\n",
        "    core_path = \"/gdrive/MyDrive/Colab/asteroid_taxonomy/\"\n",
        "except ModuleNotFoundError:\n",
        "    core_path = \"\""
      ],
      "metadata": {
        "colab": {
          "base_uri": "https://localhost:8080/"
        },
        "id": "kDfWp_VIg8a7",
        "outputId": "617b27d6-4e29-4222-e750-5aefd5ee61b1"
      },
      "execution_count": 30,
      "outputs": [
        {
          "output_type": "stream",
          "name": "stdout",
          "text": [
            "Drive already mounted at /gdrive; to attempt to forcibly remount, call drive.mount(\"/gdrive\", force_remount=True).\n"
          ]
        }
      ]
    },
    {
      "cell_type": "code",
      "source": [
        "# Read the data\n",
        "asteroids_df = pd.read_pickle(os.path.join(core_path, \"data/lvl2/\", \"asteroids.pkl\"))"
      ],
      "metadata": {
        "id": "RaIcduTvg-Dn"
      },
      "execution_count": 31,
      "outputs": []
    },
    {
      "cell_type": "code",
      "source": [
        "asteroids_df"
      ],
      "metadata": {
        "colab": {
          "base_uri": "https://localhost:8080/",
          "height": 424
        },
        "id": "3-es_61RhHkG",
        "outputId": "43cddcdd-7ea7-4bf8-eb2d-cd45606462ec"
      },
      "execution_count": 32,
      "outputs": [
        {
          "output_type": "execute_result",
          "data": {
            "text/html": [
              "\n",
              "  <div id=\"df-48024da7-3dae-42d2-b5eb-562c28014ef0\">\n",
              "    <div class=\"colab-df-container\">\n",
              "      <div>\n",
              "<style scoped>\n",
              "    .dataframe tbody tr th:only-of-type {\n",
              "        vertical-align: middle;\n",
              "    }\n",
              "\n",
              "    .dataframe tbody tr th {\n",
              "        vertical-align: top;\n",
              "    }\n",
              "\n",
              "    .dataframe thead th {\n",
              "        text-align: right;\n",
              "    }\n",
              "</style>\n",
              "<table border=\"1\" class=\"dataframe\">\n",
              "  <thead>\n",
              "    <tr style=\"text-align: right;\">\n",
              "      <th></th>\n",
              "      <th>Name</th>\n",
              "      <th>Bus_Class</th>\n",
              "      <th>SpectrumDF</th>\n",
              "      <th>Main_Group</th>\n",
              "    </tr>\n",
              "  </thead>\n",
              "  <tbody>\n",
              "    <tr>\n",
              "      <th>0</th>\n",
              "      <td>1 Ceres</td>\n",
              "      <td>C</td>\n",
              "      <td>Wavelength_in_microm  Reflectance_norm550n...</td>\n",
              "      <td>C</td>\n",
              "    </tr>\n",
              "    <tr>\n",
              "      <th>1</th>\n",
              "      <td>2 Pallas</td>\n",
              "      <td>B</td>\n",
              "      <td>Wavelength_in_microm  Reflectance_norm550n...</td>\n",
              "      <td>C</td>\n",
              "    </tr>\n",
              "    <tr>\n",
              "      <th>2</th>\n",
              "      <td>3 Juno</td>\n",
              "      <td>Sk</td>\n",
              "      <td>Wavelength_in_microm  Reflectance_norm550n...</td>\n",
              "      <td>S</td>\n",
              "    </tr>\n",
              "    <tr>\n",
              "      <th>3</th>\n",
              "      <td>4 Vesta</td>\n",
              "      <td>V</td>\n",
              "      <td>Wavelength_in_microm  Reflectance_norm550n...</td>\n",
              "      <td>Other</td>\n",
              "    </tr>\n",
              "    <tr>\n",
              "      <th>4</th>\n",
              "      <td>5 Astraea</td>\n",
              "      <td>S</td>\n",
              "      <td>Wavelength_in_microm  Reflectance_norm550n...</td>\n",
              "      <td>S</td>\n",
              "    </tr>\n",
              "    <tr>\n",
              "      <th>...</th>\n",
              "      <td>...</td>\n",
              "      <td>...</td>\n",
              "      <td>...</td>\n",
              "      <td>...</td>\n",
              "    </tr>\n",
              "    <tr>\n",
              "      <th>1334</th>\n",
              "      <td>1996 UK</td>\n",
              "      <td>Sq</td>\n",
              "      <td>Wavelength_in_microm  Reflectance_norm550n...</td>\n",
              "      <td>S</td>\n",
              "    </tr>\n",
              "    <tr>\n",
              "      <th>1335</th>\n",
              "      <td>1996 VC</td>\n",
              "      <td>S</td>\n",
              "      <td>Wavelength_in_microm  Reflectance_norm550n...</td>\n",
              "      <td>S</td>\n",
              "    </tr>\n",
              "    <tr>\n",
              "      <th>1336</th>\n",
              "      <td>1997 CZ5</td>\n",
              "      <td>S</td>\n",
              "      <td>Wavelength_in_microm  Reflectance_norm550n...</td>\n",
              "      <td>S</td>\n",
              "    </tr>\n",
              "    <tr>\n",
              "      <th>1337</th>\n",
              "      <td>1997 RD1</td>\n",
              "      <td>Sq</td>\n",
              "      <td>Wavelength_in_microm  Reflectance_norm550n...</td>\n",
              "      <td>S</td>\n",
              "    </tr>\n",
              "    <tr>\n",
              "      <th>1338</th>\n",
              "      <td>1998 WS</td>\n",
              "      <td>Sr</td>\n",
              "      <td>Wavelength_in_microm  Reflectance_norm550n...</td>\n",
              "      <td>S</td>\n",
              "    </tr>\n",
              "  </tbody>\n",
              "</table>\n",
              "<p>1339 rows × 4 columns</p>\n",
              "</div>\n",
              "      <button class=\"colab-df-convert\" onclick=\"convertToInteractive('df-48024da7-3dae-42d2-b5eb-562c28014ef0')\"\n",
              "              title=\"Convert this dataframe to an interactive table.\"\n",
              "              style=\"display:none;\">\n",
              "        \n",
              "  <svg xmlns=\"http://www.w3.org/2000/svg\" height=\"24px\"viewBox=\"0 0 24 24\"\n",
              "       width=\"24px\">\n",
              "    <path d=\"M0 0h24v24H0V0z\" fill=\"none\"/>\n",
              "    <path d=\"M18.56 5.44l.94 2.06.94-2.06 2.06-.94-2.06-.94-.94-2.06-.94 2.06-2.06.94zm-11 1L8.5 8.5l.94-2.06 2.06-.94-2.06-.94L8.5 2.5l-.94 2.06-2.06.94zm10 10l.94 2.06.94-2.06 2.06-.94-2.06-.94-.94-2.06-.94 2.06-2.06.94z\"/><path d=\"M17.41 7.96l-1.37-1.37c-.4-.4-.92-.59-1.43-.59-.52 0-1.04.2-1.43.59L10.3 9.45l-7.72 7.72c-.78.78-.78 2.05 0 2.83L4 21.41c.39.39.9.59 1.41.59.51 0 1.02-.2 1.41-.59l7.78-7.78 2.81-2.81c.8-.78.8-2.07 0-2.86zM5.41 20L4 18.59l7.72-7.72 1.47 1.35L5.41 20z\"/>\n",
              "  </svg>\n",
              "      </button>\n",
              "      \n",
              "  <style>\n",
              "    .colab-df-container {\n",
              "      display:flex;\n",
              "      flex-wrap:wrap;\n",
              "      gap: 12px;\n",
              "    }\n",
              "\n",
              "    .colab-df-convert {\n",
              "      background-color: #E8F0FE;\n",
              "      border: none;\n",
              "      border-radius: 50%;\n",
              "      cursor: pointer;\n",
              "      display: none;\n",
              "      fill: #1967D2;\n",
              "      height: 32px;\n",
              "      padding: 0 0 0 0;\n",
              "      width: 32px;\n",
              "    }\n",
              "\n",
              "    .colab-df-convert:hover {\n",
              "      background-color: #E2EBFA;\n",
              "      box-shadow: 0px 1px 2px rgba(60, 64, 67, 0.3), 0px 1px 3px 1px rgba(60, 64, 67, 0.15);\n",
              "      fill: #174EA6;\n",
              "    }\n",
              "\n",
              "    [theme=dark] .colab-df-convert {\n",
              "      background-color: #3B4455;\n",
              "      fill: #D2E3FC;\n",
              "    }\n",
              "\n",
              "    [theme=dark] .colab-df-convert:hover {\n",
              "      background-color: #434B5C;\n",
              "      box-shadow: 0px 1px 3px 1px rgba(0, 0, 0, 0.15);\n",
              "      filter: drop-shadow(0px 1px 2px rgba(0, 0, 0, 0.3));\n",
              "      fill: #FFFFFF;\n",
              "    }\n",
              "  </style>\n",
              "\n",
              "      <script>\n",
              "        const buttonEl =\n",
              "          document.querySelector('#df-48024da7-3dae-42d2-b5eb-562c28014ef0 button.colab-df-convert');\n",
              "        buttonEl.style.display =\n",
              "          google.colab.kernel.accessAllowed ? 'block' : 'none';\n",
              "\n",
              "        async function convertToInteractive(key) {\n",
              "          const element = document.querySelector('#df-48024da7-3dae-42d2-b5eb-562c28014ef0');\n",
              "          const dataTable =\n",
              "            await google.colab.kernel.invokeFunction('convertToInteractive',\n",
              "                                                     [key], {});\n",
              "          if (!dataTable) return;\n",
              "\n",
              "          const docLinkHtml = 'Like what you see? Visit the ' +\n",
              "            '<a target=\"_blank\" href=https://colab.research.google.com/notebooks/data_table.ipynb>data table notebook</a>'\n",
              "            + ' to learn more about interactive tables.';\n",
              "          element.innerHTML = '';\n",
              "          dataTable['output_type'] = 'display_data';\n",
              "          await google.colab.output.renderOutput(dataTable, element);\n",
              "          const docLink = document.createElement('div');\n",
              "          docLink.innerHTML = docLinkHtml;\n",
              "          element.appendChild(docLink);\n",
              "        }\n",
              "      </script>\n",
              "    </div>\n",
              "  </div>\n",
              "  "
            ],
            "text/plain": [
              "           Name  ... Main_Group\n",
              "0       1 Ceres  ...          C\n",
              "1      2 Pallas  ...          C\n",
              "2        3 Juno  ...          S\n",
              "3       4 Vesta  ...      Other\n",
              "4     5 Astraea  ...          S\n",
              "...         ...  ...        ...\n",
              "1334    1996 UK  ...          S\n",
              "1335    1996 VC  ...          S\n",
              "1336   1997 CZ5  ...          S\n",
              "1337   1997 RD1  ...          S\n",
              "1338    1998 WS  ...          S\n",
              "\n",
              "[1339 rows x 4 columns]"
            ]
          },
          "metadata": {},
          "execution_count": 32
        }
      ]
    },
    {
      "cell_type": "markdown",
      "source": [
        "### 4.2.2. Print some descriptive statistics"
      ],
      "metadata": {
        "id": "-Ot8d_DThEqT"
      }
    },
    {
      "cell_type": "code",
      "source": [
        "# Simple description\n",
        "asteroids_df[[\"Bus_Class\", \"Main_Group\"]].describe()"
      ],
      "metadata": {
        "colab": {
          "base_uri": "https://localhost:8080/",
          "height": 175
        },
        "id": "cW9pGhxohLdG",
        "outputId": "8f73a6be-3080-4e1e-d6c3-48d4d1fddca1"
      },
      "execution_count": 33,
      "outputs": [
        {
          "output_type": "execute_result",
          "data": {
            "text/html": [
              "\n",
              "  <div id=\"df-86f62f36-6b1a-4acd-aefb-88775bf10e5a\">\n",
              "    <div class=\"colab-df-container\">\n",
              "      <div>\n",
              "<style scoped>\n",
              "    .dataframe tbody tr th:only-of-type {\n",
              "        vertical-align: middle;\n",
              "    }\n",
              "\n",
              "    .dataframe tbody tr th {\n",
              "        vertical-align: top;\n",
              "    }\n",
              "\n",
              "    .dataframe thead th {\n",
              "        text-align: right;\n",
              "    }\n",
              "</style>\n",
              "<table border=\"1\" class=\"dataframe\">\n",
              "  <thead>\n",
              "    <tr style=\"text-align: right;\">\n",
              "      <th></th>\n",
              "      <th>Bus_Class</th>\n",
              "      <th>Main_Group</th>\n",
              "    </tr>\n",
              "  </thead>\n",
              "  <tbody>\n",
              "    <tr>\n",
              "      <th>count</th>\n",
              "      <td>1339</td>\n",
              "      <td>1339</td>\n",
              "    </tr>\n",
              "    <tr>\n",
              "      <th>unique</th>\n",
              "      <td>25</td>\n",
              "      <td>4</td>\n",
              "    </tr>\n",
              "    <tr>\n",
              "      <th>top</th>\n",
              "      <td>S</td>\n",
              "      <td>S</td>\n",
              "    </tr>\n",
              "    <tr>\n",
              "      <th>freq</th>\n",
              "      <td>383</td>\n",
              "      <td>549</td>\n",
              "    </tr>\n",
              "  </tbody>\n",
              "</table>\n",
              "</div>\n",
              "      <button class=\"colab-df-convert\" onclick=\"convertToInteractive('df-86f62f36-6b1a-4acd-aefb-88775bf10e5a')\"\n",
              "              title=\"Convert this dataframe to an interactive table.\"\n",
              "              style=\"display:none;\">\n",
              "        \n",
              "  <svg xmlns=\"http://www.w3.org/2000/svg\" height=\"24px\"viewBox=\"0 0 24 24\"\n",
              "       width=\"24px\">\n",
              "    <path d=\"M0 0h24v24H0V0z\" fill=\"none\"/>\n",
              "    <path d=\"M18.56 5.44l.94 2.06.94-2.06 2.06-.94-2.06-.94-.94-2.06-.94 2.06-2.06.94zm-11 1L8.5 8.5l.94-2.06 2.06-.94-2.06-.94L8.5 2.5l-.94 2.06-2.06.94zm10 10l.94 2.06.94-2.06 2.06-.94-2.06-.94-.94-2.06-.94 2.06-2.06.94z\"/><path d=\"M17.41 7.96l-1.37-1.37c-.4-.4-.92-.59-1.43-.59-.52 0-1.04.2-1.43.59L10.3 9.45l-7.72 7.72c-.78.78-.78 2.05 0 2.83L4 21.41c.39.39.9.59 1.41.59.51 0 1.02-.2 1.41-.59l7.78-7.78 2.81-2.81c.8-.78.8-2.07 0-2.86zM5.41 20L4 18.59l7.72-7.72 1.47 1.35L5.41 20z\"/>\n",
              "  </svg>\n",
              "      </button>\n",
              "      \n",
              "  <style>\n",
              "    .colab-df-container {\n",
              "      display:flex;\n",
              "      flex-wrap:wrap;\n",
              "      gap: 12px;\n",
              "    }\n",
              "\n",
              "    .colab-df-convert {\n",
              "      background-color: #E8F0FE;\n",
              "      border: none;\n",
              "      border-radius: 50%;\n",
              "      cursor: pointer;\n",
              "      display: none;\n",
              "      fill: #1967D2;\n",
              "      height: 32px;\n",
              "      padding: 0 0 0 0;\n",
              "      width: 32px;\n",
              "    }\n",
              "\n",
              "    .colab-df-convert:hover {\n",
              "      background-color: #E2EBFA;\n",
              "      box-shadow: 0px 1px 2px rgba(60, 64, 67, 0.3), 0px 1px 3px 1px rgba(60, 64, 67, 0.15);\n",
              "      fill: #174EA6;\n",
              "    }\n",
              "\n",
              "    [theme=dark] .colab-df-convert {\n",
              "      background-color: #3B4455;\n",
              "      fill: #D2E3FC;\n",
              "    }\n",
              "\n",
              "    [theme=dark] .colab-df-convert:hover {\n",
              "      background-color: #434B5C;\n",
              "      box-shadow: 0px 1px 3px 1px rgba(0, 0, 0, 0.15);\n",
              "      filter: drop-shadow(0px 1px 2px rgba(0, 0, 0, 0.3));\n",
              "      fill: #FFFFFF;\n",
              "    }\n",
              "  </style>\n",
              "\n",
              "      <script>\n",
              "        const buttonEl =\n",
              "          document.querySelector('#df-86f62f36-6b1a-4acd-aefb-88775bf10e5a button.colab-df-convert');\n",
              "        buttonEl.style.display =\n",
              "          google.colab.kernel.accessAllowed ? 'block' : 'none';\n",
              "\n",
              "        async function convertToInteractive(key) {\n",
              "          const element = document.querySelector('#df-86f62f36-6b1a-4acd-aefb-88775bf10e5a');\n",
              "          const dataTable =\n",
              "            await google.colab.kernel.invokeFunction('convertToInteractive',\n",
              "                                                     [key], {});\n",
              "          if (!dataTable) return;\n",
              "\n",
              "          const docLinkHtml = 'Like what you see? Visit the ' +\n",
              "            '<a target=\"_blank\" href=https://colab.research.google.com/notebooks/data_table.ipynb>data table notebook</a>'\n",
              "            + ' to learn more about interactive tables.';\n",
              "          element.innerHTML = '';\n",
              "          dataTable['output_type'] = 'display_data';\n",
              "          await google.colab.output.renderOutput(dataTable, element);\n",
              "          const docLink = document.createElement('div');\n",
              "          docLink.innerHTML = docLinkHtml;\n",
              "          element.appendChild(docLink);\n",
              "        }\n",
              "      </script>\n",
              "    </div>\n",
              "  </div>\n",
              "  "
            ],
            "text/plain": [
              "       Bus_Class Main_Group\n",
              "count       1339       1339\n",
              "unique        25          4\n",
              "top            S          S\n",
              "freq         383        549"
            ]
          },
          "metadata": {},
          "execution_count": 33
        }
      ]
    },
    {
      "cell_type": "code",
      "source": [
        "# Statistics for the Bus Class\n",
        "asteroids_df.groupby([\"Main_Group\", \"Bus_Class\"])[\"Bus_Class\"].agg([\"count\"])"
      ],
      "metadata": {
        "colab": {
          "base_uri": "https://localhost:8080/",
          "height": 865
        },
        "id": "D6i5xsPjhN6w",
        "outputId": "f159e051-672b-4b48-e812-99442dd300ef"
      },
      "execution_count": 34,
      "outputs": [
        {
          "output_type": "execute_result",
          "data": {
            "text/html": [
              "\n",
              "  <div id=\"df-cbfc5b02-1a15-4910-a06a-6eef5b00d42d\">\n",
              "    <div class=\"colab-df-container\">\n",
              "      <div>\n",
              "<style scoped>\n",
              "    .dataframe tbody tr th:only-of-type {\n",
              "        vertical-align: middle;\n",
              "    }\n",
              "\n",
              "    .dataframe tbody tr th {\n",
              "        vertical-align: top;\n",
              "    }\n",
              "\n",
              "    .dataframe thead th {\n",
              "        text-align: right;\n",
              "    }\n",
              "</style>\n",
              "<table border=\"1\" class=\"dataframe\">\n",
              "  <thead>\n",
              "    <tr style=\"text-align: right;\">\n",
              "      <th></th>\n",
              "      <th></th>\n",
              "      <th>count</th>\n",
              "    </tr>\n",
              "    <tr>\n",
              "      <th>Main_Group</th>\n",
              "      <th>Bus_Class</th>\n",
              "      <th></th>\n",
              "    </tr>\n",
              "  </thead>\n",
              "  <tbody>\n",
              "    <tr>\n",
              "      <th rowspan=\"6\" valign=\"top\">C</th>\n",
              "      <th>B</th>\n",
              "      <td>60</td>\n",
              "    </tr>\n",
              "    <tr>\n",
              "      <th>C</th>\n",
              "      <td>141</td>\n",
              "    </tr>\n",
              "    <tr>\n",
              "      <th>Cb</th>\n",
              "      <td>33</td>\n",
              "    </tr>\n",
              "    <tr>\n",
              "      <th>Cg</th>\n",
              "      <td>9</td>\n",
              "    </tr>\n",
              "    <tr>\n",
              "      <th>Cgh</th>\n",
              "      <td>15</td>\n",
              "    </tr>\n",
              "    <tr>\n",
              "      <th>Ch</th>\n",
              "      <td>138</td>\n",
              "    </tr>\n",
              "    <tr>\n",
              "      <th rowspan=\"9\" valign=\"top\">Other</th>\n",
              "      <th>A</th>\n",
              "      <td>16</td>\n",
              "    </tr>\n",
              "    <tr>\n",
              "      <th>D</th>\n",
              "      <td>9</td>\n",
              "    </tr>\n",
              "    <tr>\n",
              "      <th>K</th>\n",
              "      <td>31</td>\n",
              "    </tr>\n",
              "    <tr>\n",
              "      <th>L</th>\n",
              "      <td>34</td>\n",
              "    </tr>\n",
              "    <tr>\n",
              "      <th>Ld</th>\n",
              "      <td>13</td>\n",
              "    </tr>\n",
              "    <tr>\n",
              "      <th>O</th>\n",
              "      <td>1</td>\n",
              "    </tr>\n",
              "    <tr>\n",
              "      <th>R</th>\n",
              "      <td>4</td>\n",
              "    </tr>\n",
              "    <tr>\n",
              "      <th>T</th>\n",
              "      <td>14</td>\n",
              "    </tr>\n",
              "    <tr>\n",
              "      <th>V</th>\n",
              "      <td>35</td>\n",
              "    </tr>\n",
              "    <tr>\n",
              "      <th rowspan=\"6\" valign=\"top\">S</th>\n",
              "      <th>S</th>\n",
              "      <td>383</td>\n",
              "    </tr>\n",
              "    <tr>\n",
              "      <th>Sa</th>\n",
              "      <td>34</td>\n",
              "    </tr>\n",
              "    <tr>\n",
              "      <th>Sk</th>\n",
              "      <td>16</td>\n",
              "    </tr>\n",
              "    <tr>\n",
              "      <th>Sl</th>\n",
              "      <td>49</td>\n",
              "    </tr>\n",
              "    <tr>\n",
              "      <th>Sq</th>\n",
              "      <td>52</td>\n",
              "    </tr>\n",
              "    <tr>\n",
              "      <th>Sr</th>\n",
              "      <td>15</td>\n",
              "    </tr>\n",
              "    <tr>\n",
              "      <th rowspan=\"4\" valign=\"top\">X</th>\n",
              "      <th>X</th>\n",
              "      <td>110</td>\n",
              "    </tr>\n",
              "    <tr>\n",
              "      <th>Xc</th>\n",
              "      <td>60</td>\n",
              "    </tr>\n",
              "    <tr>\n",
              "      <th>Xe</th>\n",
              "      <td>28</td>\n",
              "    </tr>\n",
              "    <tr>\n",
              "      <th>Xk</th>\n",
              "      <td>39</td>\n",
              "    </tr>\n",
              "  </tbody>\n",
              "</table>\n",
              "</div>\n",
              "      <button class=\"colab-df-convert\" onclick=\"convertToInteractive('df-cbfc5b02-1a15-4910-a06a-6eef5b00d42d')\"\n",
              "              title=\"Convert this dataframe to an interactive table.\"\n",
              "              style=\"display:none;\">\n",
              "        \n",
              "  <svg xmlns=\"http://www.w3.org/2000/svg\" height=\"24px\"viewBox=\"0 0 24 24\"\n",
              "       width=\"24px\">\n",
              "    <path d=\"M0 0h24v24H0V0z\" fill=\"none\"/>\n",
              "    <path d=\"M18.56 5.44l.94 2.06.94-2.06 2.06-.94-2.06-.94-.94-2.06-.94 2.06-2.06.94zm-11 1L8.5 8.5l.94-2.06 2.06-.94-2.06-.94L8.5 2.5l-.94 2.06-2.06.94zm10 10l.94 2.06.94-2.06 2.06-.94-2.06-.94-.94-2.06-.94 2.06-2.06.94z\"/><path d=\"M17.41 7.96l-1.37-1.37c-.4-.4-.92-.59-1.43-.59-.52 0-1.04.2-1.43.59L10.3 9.45l-7.72 7.72c-.78.78-.78 2.05 0 2.83L4 21.41c.39.39.9.59 1.41.59.51 0 1.02-.2 1.41-.59l7.78-7.78 2.81-2.81c.8-.78.8-2.07 0-2.86zM5.41 20L4 18.59l7.72-7.72 1.47 1.35L5.41 20z\"/>\n",
              "  </svg>\n",
              "      </button>\n",
              "      \n",
              "  <style>\n",
              "    .colab-df-container {\n",
              "      display:flex;\n",
              "      flex-wrap:wrap;\n",
              "      gap: 12px;\n",
              "    }\n",
              "\n",
              "    .colab-df-convert {\n",
              "      background-color: #E8F0FE;\n",
              "      border: none;\n",
              "      border-radius: 50%;\n",
              "      cursor: pointer;\n",
              "      display: none;\n",
              "      fill: #1967D2;\n",
              "      height: 32px;\n",
              "      padding: 0 0 0 0;\n",
              "      width: 32px;\n",
              "    }\n",
              "\n",
              "    .colab-df-convert:hover {\n",
              "      background-color: #E2EBFA;\n",
              "      box-shadow: 0px 1px 2px rgba(60, 64, 67, 0.3), 0px 1px 3px 1px rgba(60, 64, 67, 0.15);\n",
              "      fill: #174EA6;\n",
              "    }\n",
              "\n",
              "    [theme=dark] .colab-df-convert {\n",
              "      background-color: #3B4455;\n",
              "      fill: #D2E3FC;\n",
              "    }\n",
              "\n",
              "    [theme=dark] .colab-df-convert:hover {\n",
              "      background-color: #434B5C;\n",
              "      box-shadow: 0px 1px 3px 1px rgba(0, 0, 0, 0.15);\n",
              "      filter: drop-shadow(0px 1px 2px rgba(0, 0, 0, 0.3));\n",
              "      fill: #FFFFFF;\n",
              "    }\n",
              "  </style>\n",
              "\n",
              "      <script>\n",
              "        const buttonEl =\n",
              "          document.querySelector('#df-cbfc5b02-1a15-4910-a06a-6eef5b00d42d button.colab-df-convert');\n",
              "        buttonEl.style.display =\n",
              "          google.colab.kernel.accessAllowed ? 'block' : 'none';\n",
              "\n",
              "        async function convertToInteractive(key) {\n",
              "          const element = document.querySelector('#df-cbfc5b02-1a15-4910-a06a-6eef5b00d42d');\n",
              "          const dataTable =\n",
              "            await google.colab.kernel.invokeFunction('convertToInteractive',\n",
              "                                                     [key], {});\n",
              "          if (!dataTable) return;\n",
              "\n",
              "          const docLinkHtml = 'Like what you see? Visit the ' +\n",
              "            '<a target=\"_blank\" href=https://colab.research.google.com/notebooks/data_table.ipynb>data table notebook</a>'\n",
              "            + ' to learn more about interactive tables.';\n",
              "          element.innerHTML = '';\n",
              "          dataTable['output_type'] = 'display_data';\n",
              "          await google.colab.output.renderOutput(dataTable, element);\n",
              "          const docLink = document.createElement('div');\n",
              "          docLink.innerHTML = docLinkHtml;\n",
              "          element.appendChild(docLink);\n",
              "        }\n",
              "      </script>\n",
              "    </div>\n",
              "  </div>\n",
              "  "
            ],
            "text/plain": [
              "                      count\n",
              "Main_Group Bus_Class       \n",
              "C          B             60\n",
              "           C            141\n",
              "           Cb            33\n",
              "           Cg             9\n",
              "           Cgh           15\n",
              "           Ch           138\n",
              "Other      A             16\n",
              "           D              9\n",
              "           K             31\n",
              "           L             34\n",
              "           Ld            13\n",
              "           O              1\n",
              "           R              4\n",
              "           T             14\n",
              "           V             35\n",
              "S          S            383\n",
              "           Sa            34\n",
              "           Sk            16\n",
              "           Sl            49\n",
              "           Sq            52\n",
              "           Sr            15\n",
              "X          X            110\n",
              "           Xc            60\n",
              "           Xe            28\n",
              "           Xk            39"
            ]
          },
          "metadata": {},
          "execution_count": 34
        }
      ]
    },
    {
      "cell_type": "code",
      "source": [
        "# Statistics for the Main Group\n",
        "asteroids_df.groupby(['Main_Group'])[\"Main_Group\"].agg(['count'])"
      ],
      "metadata": {
        "colab": {
          "base_uri": "https://localhost:8080/",
          "height": 206
        },
        "id": "_3Mg_1x2hRrO",
        "outputId": "1a337bb9-870c-406d-8637-50a173cf392d"
      },
      "execution_count": 35,
      "outputs": [
        {
          "output_type": "execute_result",
          "data": {
            "text/html": [
              "\n",
              "  <div id=\"df-736622f1-8ffe-4043-b9a2-12855591c925\">\n",
              "    <div class=\"colab-df-container\">\n",
              "      <div>\n",
              "<style scoped>\n",
              "    .dataframe tbody tr th:only-of-type {\n",
              "        vertical-align: middle;\n",
              "    }\n",
              "\n",
              "    .dataframe tbody tr th {\n",
              "        vertical-align: top;\n",
              "    }\n",
              "\n",
              "    .dataframe thead th {\n",
              "        text-align: right;\n",
              "    }\n",
              "</style>\n",
              "<table border=\"1\" class=\"dataframe\">\n",
              "  <thead>\n",
              "    <tr style=\"text-align: right;\">\n",
              "      <th></th>\n",
              "      <th>count</th>\n",
              "    </tr>\n",
              "    <tr>\n",
              "      <th>Main_Group</th>\n",
              "      <th></th>\n",
              "    </tr>\n",
              "  </thead>\n",
              "  <tbody>\n",
              "    <tr>\n",
              "      <th>C</th>\n",
              "      <td>396</td>\n",
              "    </tr>\n",
              "    <tr>\n",
              "      <th>Other</th>\n",
              "      <td>157</td>\n",
              "    </tr>\n",
              "    <tr>\n",
              "      <th>S</th>\n",
              "      <td>549</td>\n",
              "    </tr>\n",
              "    <tr>\n",
              "      <th>X</th>\n",
              "      <td>237</td>\n",
              "    </tr>\n",
              "  </tbody>\n",
              "</table>\n",
              "</div>\n",
              "      <button class=\"colab-df-convert\" onclick=\"convertToInteractive('df-736622f1-8ffe-4043-b9a2-12855591c925')\"\n",
              "              title=\"Convert this dataframe to an interactive table.\"\n",
              "              style=\"display:none;\">\n",
              "        \n",
              "  <svg xmlns=\"http://www.w3.org/2000/svg\" height=\"24px\"viewBox=\"0 0 24 24\"\n",
              "       width=\"24px\">\n",
              "    <path d=\"M0 0h24v24H0V0z\" fill=\"none\"/>\n",
              "    <path d=\"M18.56 5.44l.94 2.06.94-2.06 2.06-.94-2.06-.94-.94-2.06-.94 2.06-2.06.94zm-11 1L8.5 8.5l.94-2.06 2.06-.94-2.06-.94L8.5 2.5l-.94 2.06-2.06.94zm10 10l.94 2.06.94-2.06 2.06-.94-2.06-.94-.94-2.06-.94 2.06-2.06.94z\"/><path d=\"M17.41 7.96l-1.37-1.37c-.4-.4-.92-.59-1.43-.59-.52 0-1.04.2-1.43.59L10.3 9.45l-7.72 7.72c-.78.78-.78 2.05 0 2.83L4 21.41c.39.39.9.59 1.41.59.51 0 1.02-.2 1.41-.59l7.78-7.78 2.81-2.81c.8-.78.8-2.07 0-2.86zM5.41 20L4 18.59l7.72-7.72 1.47 1.35L5.41 20z\"/>\n",
              "  </svg>\n",
              "      </button>\n",
              "      \n",
              "  <style>\n",
              "    .colab-df-container {\n",
              "      display:flex;\n",
              "      flex-wrap:wrap;\n",
              "      gap: 12px;\n",
              "    }\n",
              "\n",
              "    .colab-df-convert {\n",
              "      background-color: #E8F0FE;\n",
              "      border: none;\n",
              "      border-radius: 50%;\n",
              "      cursor: pointer;\n",
              "      display: none;\n",
              "      fill: #1967D2;\n",
              "      height: 32px;\n",
              "      padding: 0 0 0 0;\n",
              "      width: 32px;\n",
              "    }\n",
              "\n",
              "    .colab-df-convert:hover {\n",
              "      background-color: #E2EBFA;\n",
              "      box-shadow: 0px 1px 2px rgba(60, 64, 67, 0.3), 0px 1px 3px 1px rgba(60, 64, 67, 0.15);\n",
              "      fill: #174EA6;\n",
              "    }\n",
              "\n",
              "    [theme=dark] .colab-df-convert {\n",
              "      background-color: #3B4455;\n",
              "      fill: #D2E3FC;\n",
              "    }\n",
              "\n",
              "    [theme=dark] .colab-df-convert:hover {\n",
              "      background-color: #434B5C;\n",
              "      box-shadow: 0px 1px 3px 1px rgba(0, 0, 0, 0.15);\n",
              "      filter: drop-shadow(0px 1px 2px rgba(0, 0, 0, 0.3));\n",
              "      fill: #FFFFFF;\n",
              "    }\n",
              "  </style>\n",
              "\n",
              "      <script>\n",
              "        const buttonEl =\n",
              "          document.querySelector('#df-736622f1-8ffe-4043-b9a2-12855591c925 button.colab-df-convert');\n",
              "        buttonEl.style.display =\n",
              "          google.colab.kernel.accessAllowed ? 'block' : 'none';\n",
              "\n",
              "        async function convertToInteractive(key) {\n",
              "          const element = document.querySelector('#df-736622f1-8ffe-4043-b9a2-12855591c925');\n",
              "          const dataTable =\n",
              "            await google.colab.kernel.invokeFunction('convertToInteractive',\n",
              "                                                     [key], {});\n",
              "          if (!dataTable) return;\n",
              "\n",
              "          const docLinkHtml = 'Like what you see? Visit the ' +\n",
              "            '<a target=\"_blank\" href=https://colab.research.google.com/notebooks/data_table.ipynb>data table notebook</a>'\n",
              "            + ' to learn more about interactive tables.';\n",
              "          element.innerHTML = '';\n",
              "          dataTable['output_type'] = 'display_data';\n",
              "          await google.colab.output.renderOutput(dataTable, element);\n",
              "          const docLink = document.createElement('div');\n",
              "          docLink.innerHTML = docLinkHtml;\n",
              "          element.appendChild(docLink);\n",
              "        }\n",
              "      </script>\n",
              "    </div>\n",
              "  </div>\n",
              "  "
            ],
            "text/plain": [
              "            count\n",
              "Main_Group       \n",
              "C             396\n",
              "Other         157\n",
              "S             549\n",
              "X             237"
            ]
          },
          "metadata": {},
          "execution_count": 35
        }
      ]
    },
    {
      "cell_type": "markdown",
      "source": [
        "### 4.2.3. Summary\n",
        "By applying very simple descriptive statistics we found that the Bus-Class has highly under-represented datasets like e.g., O- or R-Class with 1 and 4 spectra, respectively! Since we want to perform a classification a severe bias in the training, validation and test data should be avoided!\n",
        "\n",
        "For future considerations we use only the Main Group Classification. However, we keep the Bus Class data, if we want to take a deeper look later, after the classification part."
      ],
      "metadata": {
        "id": "MEWCyLuOhT0q"
      }
    },
    {
      "cell_type": "markdown",
      "source": [
        "---\n",
        "# 5. Machine Learning!"
      ],
      "metadata": {
        "id": "79OXBppUhcfs"
      }
    },
    {
      "cell_type": "markdown",
      "source": [
        "## 5.1. First Steps\n",
        "We are now set to perform some Machine Learning on the Asteroid Spectra Data! We keep it simple though: The multiclass clssificaiton problem of the Main Group classes:\n",
        "\n",
        "* C\n",
        "* S\n",
        "* X\n",
        "* Other\n",
        "\n",
        "\n",
        "... shall be transformed into a binary problem. E.g.: X (1) and Not-X (0). In this script we use a Support Vector Machine (SVM) algorithm to perform some classification tasks"
      ],
      "metadata": {
        "id": "uWKW711BhjRD"
      }
    },
    {
      "cell_type": "markdown",
      "source": [
        "### 5.1.1. Setup"
      ],
      "metadata": {
        "id": "E92FPRh9hs8r"
      }
    },
    {
      "cell_type": "code",
      "source": [
        "# Import standard libraries\n",
        "import os\n",
        "\n",
        "# Import installed libraries\n",
        "import numpy as np\n",
        "import pandas as pd\n",
        "import sklearn"
      ],
      "metadata": {
        "id": "MivRshBwhx89"
      },
      "execution_count": 36,
      "outputs": []
    },
    {
      "cell_type": "code",
      "source": [
        "try:\n",
        "    from google.colab import drive\n",
        "    drive.mount('/gdrive')\n",
        "    core_path = \"/gdrive/MyDrive/Colab/asteroid_taxonomy/\"\n",
        "except ModuleNotFoundError:\n",
        "    core_path = \"\""
      ],
      "metadata": {
        "colab": {
          "base_uri": "https://localhost:8080/"
        },
        "id": "fYbyUuYTh3Vb",
        "outputId": "cbd57736-ae79-4a53-c7ad-aab3f04eef7e"
      },
      "execution_count": 37,
      "outputs": [
        {
          "output_type": "stream",
          "name": "stdout",
          "text": [
            "Drive already mounted at /gdrive; to attempt to forcibly remount, call drive.mount(\"/gdrive\", force_remount=True).\n"
          ]
        }
      ]
    },
    {
      "cell_type": "code",
      "source": [
        "# Load the level 2 asteroid data\n",
        "asteroids_df = pd.read_pickle(os.path.join(core_path, \"data/lvl2/\", \"asteroids.pkl\"))"
      ],
      "metadata": {
        "id": "pC-TxMKch-zc"
      },
      "execution_count": 38,
      "outputs": []
    },
    {
      "cell_type": "code",
      "source": [
        "# Now we add a binary classification schema, where we distinguish between e.g., X and non-X classes\n",
        "asteroids_df.loc[:, \"Class\"] = asteroids_df[\"Main_Group\"].apply(lambda x: 1 if x==\"X\" else 0)"
      ],
      "metadata": {
        "id": "Py-idTj2iA2J"
      },
      "execution_count": 39,
      "outputs": []
    },
    {
      "cell_type": "code",
      "source": [
        "# Allocate the spectra to one array and the classes to another one\n",
        "asteroids_X = np.array([k[\"Reflectance_norm550nm\"].tolist() for k in asteroids_df[\"SpectrumDF\"]])\n",
        "asteroids_y = np.array(asteroids_df[\"Class\"].to_list())"
      ],
      "metadata": {
        "id": "_MdX_FPZiCGS"
      },
      "execution_count": 40,
      "outputs": []
    },
    {
      "cell_type": "code",
      "source": [
        "# In this example we create a single test-training split with a ratio of 0.8 / 0.2\n",
        "from sklearn.model_selection import StratifiedShuffleSplit\n",
        "sss = StratifiedShuffleSplit(n_splits=1, test_size=0.2, random_state=0)\n",
        "\n",
        "for train_index, test_index in sss.split(asteroids_X, asteroids_y):\n",
        "    X_train, X_test = asteroids_X[train_index], asteroids_X[test_index]\n",
        "    y_train, y_test = asteroids_y[train_index], asteroids_y[test_index]"
      ],
      "metadata": {
        "id": "DzPT3elFiDl8"
      },
      "execution_count": 41,
      "outputs": []
    },
    {
      "cell_type": "code",
      "source": [
        "# Let's take a look whether the unbalanced ratio has been preserved\n",
        "print(f\"Ration of positive training classes: {round(sum(y_train) / len(X_train), 2)}\")\n",
        "print(f\"Ration of positive test classes: {round(sum(y_test) / len(X_test), 2)}\")"
      ],
      "metadata": {
        "colab": {
          "base_uri": "https://localhost:8080/"
        },
        "id": "1OBmh430iGLY",
        "outputId": "6a76ffb1-5f46-4f39-918b-98c2454f93bc"
      },
      "execution_count": 42,
      "outputs": [
        {
          "output_type": "stream",
          "name": "stdout",
          "text": [
            "Ration of positive training classes: 0.18\n",
            "Ration of positive test classes: 0.18\n"
          ]
        }
      ]
    },
    {
      "cell_type": "markdown",
      "source": [
        "### 5.1.2. Unbalanced Datasets\n",
        "\n",
        "The inverse of the ratio is approximately 5. We need this, to weight our unbalanced training set during the ML fitting process"
      ],
      "metadata": {
        "id": "WqdsAUq1iIbJ"
      }
    },
    {
      "cell_type": "code",
      "source": [
        "# Compute class weightning\n",
        "positive_class_weight = int(1.0 / (sum(y_train) / len(X_train)))\n",
        "print(f\"Positive Class weightning: {positive_class_weight}\")"
      ],
      "metadata": {
        "colab": {
          "base_uri": "https://localhost:8080/"
        },
        "id": "HdBmv9_ziLpA",
        "outputId": "ecc21200-e2f2-489c-b84d-238f8aa244ba"
      },
      "execution_count": 45,
      "outputs": [
        {
          "output_type": "stream",
          "name": "stdout",
          "text": [
            "Positive Class weightning: 5\n"
          ]
        }
      ]
    },
    {
      "cell_type": "markdown",
      "source": [
        "### 5.1.3. Scaling\n",
        "Scaling the training and test data should be done AFTER the splitting to prevent data leakage from the test data to the training data!"
      ],
      "metadata": {
        "id": "DXFFKNlgiPuA"
      }
    },
    {
      "cell_type": "code",
      "source": [
        "# Import the preprocessing module\n",
        "from sklearn import preprocessing\n",
        "\n",
        "# Instantiate the StandardScaler (mean 0, standard deviation 1) and use the training data to fit\n",
        "# the scaler\n",
        "scaler = preprocessing.StandardScaler().fit(X_train)\n",
        "\n",
        "# Transform now the training data\n",
        "X_train_scaled = scaler.transform(X_train)"
      ],
      "metadata": {
        "id": "oHsuajBhiTPe"
      },
      "execution_count": 43,
      "outputs": []
    },
    {
      "cell_type": "markdown",
      "source": [
        "### 5.1.4. The training\n",
        "Please note: This training is rather simple; it does not use multiple training / test splits, performs no logging and performs no GridSearch to find the best set of parameters!\n",
        "\n"
      ],
      "metadata": {
        "id": "wfu_vKEdiXKp"
      }
    },
    {
      "cell_type": "code",
      "source": [
        "# Import the SVM class\n",
        "from sklearn import svm\n",
        "\n",
        "# Call the SVM class, use an RBF kernel and apply the class weightning. That's it!\n",
        "wclf = svm.SVC(kernel='rbf', class_weight={1: positive_class_weight}, C=100)\n",
        "\n",
        "# Perform the training\n",
        "wclf.fit(X_train_scaled, y_train)"
      ],
      "metadata": {
        "colab": {
          "base_uri": "https://localhost:8080/"
        },
        "id": "Adbn0INOiaQH",
        "outputId": "29881062-4a13-447e-e4e9-9bf3006b0d63"
      },
      "execution_count": 46,
      "outputs": [
        {
          "output_type": "execute_result",
          "data": {
            "text/plain": [
              "SVC(C=100, class_weight={1: 5})"
            ]
          },
          "metadata": {},
          "execution_count": 46
        }
      ]
    },
    {
      "cell_type": "code",
      "source": [
        "# Scale the testing data ...\n",
        "X_test_scaled = scaler.transform(X_test)\n",
        "\n",
        "# ... and perform a predicition\n",
        "y_test_pred = wclf.predict(X_test_scaled)"
      ],
      "metadata": {
        "id": "WE71OB33imHM"
      },
      "execution_count": 47,
      "outputs": []
    },
    {
      "cell_type": "markdown",
      "source": [
        "### 5.1.5. Metrics\n",
        "\n",
        "What kind of metrics are useful to determine the performance of a classifier?\n",
        "\n",
        "The answer to this questions depends on one's expectations on a classifiers behaviour: Is the \"overall\" performance important? Does one want to prevent false positives? Or false negatives? Is the number of positive results the most important metric?\n",
        "\n",
        "Fictional project scope: Let's assume that our final model shall later support scientists as a tool to find X Class spectra in a vast dataset. Further, let's assume that the scientists' task is to find as many X Class spectra as possible. Consequently the scientists do not want to have falsely classified X spectra. We take a look first at the confusion matrix:"
      ],
      "metadata": {
        "id": "YsU7K7GuipYP"
      }
    },
    {
      "cell_type": "code",
      "source": [
        "# Import the confusion matrix and perform the computation\n",
        "from sklearn.metrics import confusion_matrix\n",
        "conf_mat = confusion_matrix(y_test, y_test_pred)\n",
        "\n",
        "print(conf_mat)\n",
        "\n",
        "# The order of the confusion matrix is:\n",
        "#     - true negative (top left, tn)\n",
        "#     - false positive (top right, fp)\n",
        "#     - false negative (bottom left, fn)\n",
        "#     - true positive (bottom right, tp)\n",
        "tn, fp, fn, tp = conf_mat.ravel()"
      ],
      "metadata": {
        "colab": {
          "base_uri": "https://localhost:8080/"
        },
        "id": "j2xAws2Yisrp",
        "outputId": "6d9b1299-df49-4c53-c1d0-f2a5dd7f694b"
      },
      "execution_count": 48,
      "outputs": [
        {
          "output_type": "stream",
          "name": "stdout",
          "text": [
            "[[217   4]\n",
            " [  2  45]]\n"
          ]
        }
      ]
    },
    {
      "cell_type": "markdown",
      "source": [
        "Fictional project scope: The number of false negatives should be as small as possible (the scientist does not want to lose preciouse spectra!). Further, the number of false positives might be higher. The scientists will sort them out later on. A less strict requirement for the so called False Discovery Rate enables the Machine Learning Engineer to find a solution quicker in a broader solution space"
      ],
      "metadata": {
        "id": "51T_r_yEixtV"
      }
    },
    {
      "cell_type": "code",
      "source": [
        "# Recall: ratio of correctly classified X Class spectra, considering the false negatives\n",
        "# (recall = tp / (tp + fn))\n",
        "recall_score = round(sklearn.metrics.recall_score(y_test, y_test_pred), 3)\n",
        "print(f\"Recall Score: {recall_score}\")\n",
        "\n",
        "# Precision: ratio of correctly classified X Class spectra, considering the false positives\n",
        "# (precision = tp / (tp + fp))\n",
        "precision_score = round(sklearn.metrics.precision_score(y_test, y_test_pred), 3)\n",
        "print(f\"Precision Score: {precision_score}\")\n",
        "\n",
        "# A combined score\n",
        "f1_score = round(sklearn.metrics.f1_score(y_test, y_test_pred), 3)\n",
        "print(f\"F1 Score: {f1_score}\")"
      ],
      "metadata": {
        "colab": {
          "base_uri": "https://localhost:8080/"
        },
        "id": "qLeUbhBki6ei",
        "outputId": "53dca836-da04-4b57-aaf3-d0d03e16d9a2"
      },
      "execution_count": 49,
      "outputs": [
        {
          "output_type": "stream",
          "name": "stdout",
          "text": [
            "Recall Score: 0.957\n",
            "Precision Score: 0.918\n",
            "F1 Score: 0.938\n"
          ]
        }
      ]
    },
    {
      "cell_type": "markdown",
      "source": [
        "## 5.2. Machine Learning - Parameter Search / Optimization\n",
        "\n",
        "In this step we are performing a GridSearch on the binary classification problem. Our considered metric: the F1 score!\n",
        "\n"
      ],
      "metadata": {
        "id": "oEwVnM44jGAv"
      }
    },
    {
      "cell_type": "markdown",
      "source": [
        "### 5.2.1. Setup"
      ],
      "metadata": {
        "id": "KdizPC_ejHtD"
      }
    },
    {
      "cell_type": "code",
      "source": [
        "# Import standard libraries\n",
        "import os\n",
        "\n",
        "# Import installed libraries\n",
        "import numpy as np\n",
        "import pandas as pd\n",
        "import sklearn\n",
        "\n",
        "from sklearn import preprocessing\n",
        "from sklearn import svm\n",
        "from sklearn.model_selection import GridSearchCV"
      ],
      "metadata": {
        "id": "WIYQOo2tjRwO"
      },
      "execution_count": 50,
      "outputs": []
    },
    {
      "cell_type": "code",
      "source": [
        "try:\n",
        "    from google.colab import drive\n",
        "    drive.mount('/gdrive')\n",
        "    core_path = \"/gdrive/MyDrive/Colab/asteroid_taxonomy/\"\n",
        "except ModuleNotFoundError:\n",
        "    core_path = \"\""
      ],
      "metadata": {
        "colab": {
          "base_uri": "https://localhost:8080/"
        },
        "id": "DAzvR-kKjSHt",
        "outputId": "cca2f234-a6fb-4c83-b01d-3897c0a6e44b"
      },
      "execution_count": 51,
      "outputs": [
        {
          "output_type": "stream",
          "name": "stdout",
          "text": [
            "Drive already mounted at /gdrive; to attempt to forcibly remount, call drive.mount(\"/gdrive\", force_remount=True).\n"
          ]
        }
      ]
    },
    {
      "cell_type": "markdown",
      "source": [
        "### 5.2.2. Grid Search"
      ],
      "metadata": {
        "id": "zAvjDoYKjbZr"
      }
    },
    {
      "cell_type": "code",
      "source": [
        "# Load the level 2 asteroid data\n",
        "asteroids_df = pd.read_pickle(os.path.join(core_path, \"data/lvl2/\", \"asteroids.pkl\"))\n",
        "\n",
        "# Now we add a binary classification schema, where we distinguish between e.g., X and non-X classes\n",
        "asteroids_df.loc[:, \"Class\"] = asteroids_df[\"Main_Group\"].apply(lambda x: 1 if x==\"X\" else 0)\n",
        "\n",
        "# Allocate the spectra to one array and the classes to another one\n",
        "asteroids_X = np.array([k[\"Reflectance_norm550nm\"].tolist() for k in asteroids_df[\"SpectrumDF\"]])\n",
        "asteroids_y = np.array(asteroids_df[\"Class\"].to_list())"
      ],
      "metadata": {
        "id": "PFMqJNnEjUeu"
      },
      "execution_count": 52,
      "outputs": []
    },
    {
      "cell_type": "code",
      "source": [
        "# In this example we create a single test-training split with a ratio of 0.8 / 0.2\n",
        "from sklearn.model_selection import StratifiedShuffleSplit\n",
        "sss = StratifiedShuffleSplit(n_splits=1, test_size=0.2)\n",
        "\n",
        "# Create a simple, single train / test split\n",
        "for train_index, test_index in sss.split(asteroids_X, asteroids_y):\n",
        "    \n",
        "    X_train, X_test = asteroids_X[train_index], asteroids_X[test_index]\n",
        "    y_train, y_test = asteroids_y[train_index], asteroids_y[test_index]\n",
        "\n",
        "# Compute class weightning\n",
        "positive_class_weight = int(1.0 / (sum(y_train) / len(X_train)))"
      ],
      "metadata": {
        "id": "PSv7JRRkjgv9"
      },
      "execution_count": 53,
      "outputs": []
    },
    {
      "cell_type": "code",
      "source": [
        "# Perform now a GridSearch with the following parameter range and kernels\n",
        "param_grid = [\n",
        "  {'C': [1, 10, 100, 1000], 'kernel': ['linear']},\n",
        "  {'C': [1, 10, 100, 1000], 'kernel': ['rbf']},\n",
        " ]\n",
        "\n",
        "# Set the SVM classifier\n",
        "svc = svm.SVC(class_weight={1: positive_class_weight})\n",
        "\n",
        "# Instantiate the StandardScaler (mean 0, standard deviation 1) and use the training data to fit\n",
        "# the scaler\n",
        "scaler = preprocessing.StandardScaler().fit(X_train)\n",
        "\n",
        "# Transform now the training data\n",
        "X_train_scaled = scaler.transform(X_train)\n",
        "\n",
        "# Set the GridSearch and ...\n",
        "wclf = GridSearchCV(svc, param_grid, scoring='f1', verbose=3, cv=5)\n",
        "\n",
        "# ... perform the training!\n",
        "wclf.fit(X_train_scaled, y_train)"
      ],
      "metadata": {
        "colab": {
          "base_uri": "https://localhost:8080/"
        },
        "id": "5FFi-SLAjigP",
        "outputId": "568a0a0b-6aaf-412a-c841-df9939a8f555"
      },
      "execution_count": 54,
      "outputs": [
        {
          "output_type": "stream",
          "name": "stdout",
          "text": [
            "Fitting 5 folds for each of 8 candidates, totalling 40 fits\n",
            "[CV 1/5] END ................C=1, kernel=linear;, score=0.512 total time=   0.1s\n",
            "[CV 2/5] END ................C=1, kernel=linear;, score=0.537 total time=   0.1s\n",
            "[CV 3/5] END ................C=1, kernel=linear;, score=0.537 total time=   0.1s\n",
            "[CV 4/5] END ................C=1, kernel=linear;, score=0.544 total time=   0.1s\n",
            "[CV 5/5] END ................C=1, kernel=linear;, score=0.544 total time=   0.1s\n",
            "[CV 1/5] END ...............C=10, kernel=linear;, score=0.508 total time=   0.5s\n",
            "[CV 2/5] END ...............C=10, kernel=linear;, score=0.576 total time=   0.6s\n",
            "[CV 3/5] END ...............C=10, kernel=linear;, score=0.558 total time=   0.7s\n",
            "[CV 4/5] END ...............C=10, kernel=linear;, score=0.545 total time=   0.5s\n",
            "[CV 5/5] END ...............C=10, kernel=linear;, score=0.534 total time=   0.3s\n",
            "[CV 1/5] END ..............C=100, kernel=linear;, score=0.531 total time=   3.4s\n",
            "[CV 2/5] END ..............C=100, kernel=linear;, score=0.595 total time=   5.6s\n",
            "[CV 3/5] END ..............C=100, kernel=linear;, score=0.562 total time=   2.8s\n",
            "[CV 4/5] END ..............C=100, kernel=linear;, score=0.532 total time=   5.2s\n",
            "[CV 5/5] END ..............C=100, kernel=linear;, score=0.562 total time=   3.1s\n",
            "[CV 1/5] END .............C=1000, kernel=linear;, score=0.531 total time=  34.0s\n",
            "[CV 2/5] END .............C=1000, kernel=linear;, score=0.588 total time=  28.2s\n",
            "[CV 3/5] END .............C=1000, kernel=linear;, score=0.516 total time= 1.2min\n",
            "[CV 4/5] END .............C=1000, kernel=linear;, score=0.536 total time=  35.2s\n",
            "[CV 5/5] END .............C=1000, kernel=linear;, score=0.534 total time= 1.3min\n",
            "[CV 1/5] END ...................C=1, kernel=rbf;, score=0.844 total time=   0.0s\n",
            "[CV 2/5] END ...................C=1, kernel=rbf;, score=0.787 total time=   0.0s\n",
            "[CV 3/5] END ...................C=1, kernel=rbf;, score=0.792 total time=   0.0s\n",
            "[CV 4/5] END ...................C=1, kernel=rbf;, score=0.884 total time=   0.0s\n",
            "[CV 5/5] END ...................C=1, kernel=rbf;, score=0.881 total time=   0.0s\n",
            "[CV 1/5] END ..................C=10, kernel=rbf;, score=0.916 total time=   0.0s\n",
            "[CV 2/5] END ..................C=10, kernel=rbf;, score=0.902 total time=   0.0s\n",
            "[CV 3/5] END ..................C=10, kernel=rbf;, score=0.905 total time=   0.0s\n",
            "[CV 4/5] END ..................C=10, kernel=rbf;, score=0.950 total time=   0.0s\n",
            "[CV 5/5] END ..................C=10, kernel=rbf;, score=0.937 total time=   0.0s\n",
            "[CV 1/5] END .................C=100, kernel=rbf;, score=0.923 total time=   0.0s\n",
            "[CV 2/5] END .................C=100, kernel=rbf;, score=0.900 total time=   0.0s\n",
            "[CV 3/5] END .................C=100, kernel=rbf;, score=0.974 total time=   0.0s\n",
            "[CV 4/5] END .................C=100, kernel=rbf;, score=0.925 total time=   0.0s\n",
            "[CV 5/5] END .................C=100, kernel=rbf;, score=0.923 total time=   0.0s\n",
            "[CV 1/5] END ................C=1000, kernel=rbf;, score=0.923 total time=   0.0s\n",
            "[CV 2/5] END ................C=1000, kernel=rbf;, score=0.911 total time=   0.0s\n",
            "[CV 3/5] END ................C=1000, kernel=rbf;, score=0.938 total time=   0.0s\n",
            "[CV 4/5] END ................C=1000, kernel=rbf;, score=0.935 total time=   0.0s\n",
            "[CV 5/5] END ................C=1000, kernel=rbf;, score=0.904 total time=   0.0s\n"
          ]
        },
        {
          "output_type": "execute_result",
          "data": {
            "text/plain": [
              "GridSearchCV(cv=5, estimator=SVC(class_weight={1: 5}),\n",
              "             param_grid=[{'C': [1, 10, 100, 1000], 'kernel': ['linear']},\n",
              "                         {'C': [1, 10, 100, 1000], 'kernel': ['rbf']}],\n",
              "             scoring='f1', verbose=3)"
            ]
          },
          "metadata": {},
          "execution_count": 54
        }
      ]
    },
    {
      "cell_type": "code",
      "source": [
        "# Optional: get the best estimator\n",
        "final_clf = wclf.best_estimator_"
      ],
      "metadata": {
        "id": "sivDlOcqjkX2"
      },
      "execution_count": 55,
      "outputs": []
    },
    {
      "cell_type": "code",
      "source": [
        "# Scale the testing data ...\n",
        "X_test_scaled = scaler.transform(X_test)\n",
        "\n",
        "# ... and perform a predicition\n",
        "y_test_pred = final_clf.predict(X_test_scaled)"
      ],
      "metadata": {
        "id": "ARRvdJUcjmz4"
      },
      "execution_count": 56,
      "outputs": []
    },
    {
      "cell_type": "code",
      "source": [
        "# Import the confusion matrix and perform the computation\n",
        "from sklearn.metrics import confusion_matrix\n",
        "conf_mat = confusion_matrix(y_test, y_test_pred)\n",
        "\n",
        "print(conf_mat)\n",
        "\n",
        "# The order of the confusion matrix is:\n",
        "#     - true negative (top left, tn)\n",
        "#     - false positive (top right, fp)\n",
        "#     - false negative (bottom left, fn)\n",
        "#     - true positive (bottom right, tp)\n",
        "tn, fp, fn, tp = conf_mat.ravel()"
      ],
      "metadata": {
        "colab": {
          "base_uri": "https://localhost:8080/"
        },
        "id": "VqiXMVPgjpeJ",
        "outputId": "5c33a05e-c2b4-44ce-e565-09c6a4e39f59"
      },
      "execution_count": 57,
      "outputs": [
        {
          "output_type": "stream",
          "name": "stdout",
          "text": [
            "[[213   8]\n",
            " [  3  44]]\n"
          ]
        }
      ]
    },
    {
      "cell_type": "code",
      "source": [
        "# Recall: ratio of correctly classified X Class spectra, considering the false negatives\n",
        "# (recall = tp / (tp + fn))\n",
        "recall_score = round(sklearn.metrics.recall_score(y_test, y_test_pred), 3)\n",
        "print(f\"Recall Score: {recall_score}\")\n",
        "\n",
        "# Precision: ratio of correctly classified X Class spectra, considering the false positives\n",
        "# (precision = tp / (tp + fp))\n",
        "precision_score = round(sklearn.metrics.precision_score(y_test, y_test_pred), 3)\n",
        "print(f\"Precision Score: {precision_score}\")\n",
        "\n",
        "# A combined score\n",
        "f1_score = round(sklearn.metrics.f1_score(y_test, y_test_pred), 3)\n",
        "print(f\"F1 Score: {f1_score}\")"
      ],
      "metadata": {
        "colab": {
          "base_uri": "https://localhost:8080/"
        },
        "id": "OsBFS3wcjrxf",
        "outputId": "0153d468-0a44-4140-c7bc-0094c12aee4f"
      },
      "execution_count": 58,
      "outputs": [
        {
          "output_type": "stream",
          "name": "stdout",
          "text": [
            "Recall Score: 0.936\n",
            "Precision Score: 0.846\n",
            "F1 Score: 0.889\n"
          ]
        }
      ]
    },
    {
      "cell_type": "markdown",
      "source": [
        "## 5.3. Machine Learning - Multiclass\n",
        "Finally, we focus now on a multiclass SVM\n",
        "\n"
      ],
      "metadata": {
        "id": "tT1u5AQGj_hN"
      }
    },
    {
      "cell_type": "markdown",
      "source": [
        "### 5.3.1. Setup"
      ],
      "metadata": {
        "id": "dCuF8rLWkCz7"
      }
    },
    {
      "cell_type": "code",
      "source": [
        "# Import standard libraries\n",
        "import os\n",
        "\n",
        "# Import installed libraries\n",
        "import numpy as np\n",
        "import pandas as pd\n",
        "import sklearn\n",
        "\n",
        "from sklearn import preprocessing\n",
        "from sklearn import svm\n",
        "from sklearn.model_selection import GridSearchCV"
      ],
      "metadata": {
        "id": "_GLtbSvNkHIM"
      },
      "execution_count": 59,
      "outputs": []
    },
    {
      "cell_type": "code",
      "source": [
        "try:\n",
        "    from google.colab import drive\n",
        "    drive.mount('/gdrive')\n",
        "    core_path = \"/gdrive/MyDrive/Colab/asteroid_taxonomy/\"\n",
        "except ModuleNotFoundError:\n",
        "    core_path = \"\""
      ],
      "metadata": {
        "id": "9E9x2hNTkK1V"
      },
      "execution_count": null,
      "outputs": []
    },
    {
      "cell_type": "code",
      "source": [
        "# Load the level 2 asteroid data\n",
        "asteroids_df = pd.read_pickle(os.path.join(core_path, \"data/lvl2/\", \"asteroids.pkl\"))"
      ],
      "metadata": {
        "id": "KomrSPa2kMSn"
      },
      "execution_count": 60,
      "outputs": []
    },
    {
      "cell_type": "markdown",
      "source": [
        "### 5.3.2. Training"
      ],
      "metadata": {
        "id": "Mb1T6Z9AkPAh"
      }
    },
    {
      "cell_type": "code",
      "source": [
        "# Allocate the spectra to one array and the classes to another one\n",
        "asteroids_X = np.array([k[\"Reflectance_norm550nm\"].tolist() for k in asteroids_df[\"SpectrumDF\"]])\n",
        "asteroids_y = np.array(asteroids_df[\"Main_Group\"].to_list())"
      ],
      "metadata": {
        "id": "ZDrqRUkdkRJQ"
      },
      "execution_count": 61,
      "outputs": []
    },
    {
      "cell_type": "code",
      "source": [
        "# In this example we create a single test-training split with a ratio of 0.8 / 0.2\n",
        "from sklearn.model_selection import StratifiedShuffleSplit\n",
        "sss = StratifiedShuffleSplit(n_splits=1, test_size=0.2)\n",
        "\n",
        "# Create a simple, single train / test split\n",
        "for train_index, test_index in sss.split(asteroids_X, asteroids_y):\n",
        "    \n",
        "    X_train, X_test = asteroids_X[train_index], asteroids_X[test_index]\n",
        "    y_train, y_test = asteroids_y[train_index], asteroids_y[test_index]\n",
        "\n",
        "# Compute class weightnings\n",
        "weight_dict = {}\n",
        "for ast_type in np.unique(y_train):\n",
        "    weight_dict[ast_type] = int(1.0 / (len(y_train[y_train == ast_type]) / (len(y_train))))"
      ],
      "metadata": {
        "id": "6Q5XP7L9kUun"
      },
      "execution_count": 62,
      "outputs": []
    },
    {
      "cell_type": "code",
      "source": [
        "from sklearn.metrics import make_scorer, f1_score\n",
        "\n",
        "# Perform now a GridSearch with the following parameter range and kernels\n",
        "param_grid = [\n",
        "  {'C': np.logspace(0, 3, 25), 'kernel': ['linear']},\n",
        "  {'C': np.logspace(0, 3, 25), 'kernel': ['rbf']},\n",
        " ]\n",
        "\n",
        "# Set the SVM classifier\n",
        "svc = svm.SVC(class_weight=weight_dict)\n",
        "\n",
        "# Instantiate the StandardScaler (mean 0, standard deviation 1) and use the training data to fit\n",
        "# the scaler\n",
        "scaler = preprocessing.StandardScaler().fit(X_train)\n",
        "\n",
        "# Transform now the training data\n",
        "X_train_scaled = scaler.transform(X_train)\n",
        "\n",
        "# Set the GridSearch. Use the f1 \"weighted\" score in a maker_scorer function. And ...\n",
        "wclf = GridSearchCV(svc, param_grid, scoring=make_scorer(f1_score, average=\"weighted\"), verbose=3, cv=5)\n",
        "\n",
        "# ... perform the training!\n",
        "wclf.fit(X_train_scaled, y_train)"
      ],
      "metadata": {
        "colab": {
          "base_uri": "https://localhost:8080/"
        },
        "id": "gnXGoPuPkVRw",
        "outputId": "6f1d5a1d-3094-4902-d23f-58458238f9c7"
      },
      "execution_count": 63,
      "outputs": [
        {
          "output_type": "stream",
          "name": "stdout",
          "text": [
            "Fitting 5 folds for each of 50 candidates, totalling 250 fits\n",
            "[CV 1/5] END ..............C=1.0, kernel=linear;, score=0.870 total time=   0.1s\n",
            "[CV 2/5] END ..............C=1.0, kernel=linear;, score=0.860 total time=   0.1s\n",
            "[CV 3/5] END ..............C=1.0, kernel=linear;, score=0.856 total time=   0.1s\n",
            "[CV 4/5] END ..............C=1.0, kernel=linear;, score=0.823 total time=   0.1s\n",
            "[CV 5/5] END ..............C=1.0, kernel=linear;, score=0.850 total time=   0.1s\n",
            "[CV 1/5] END C=1.333521432163324, kernel=linear;, score=0.886 total time=   0.1s\n",
            "[CV 2/5] END C=1.333521432163324, kernel=linear;, score=0.876 total time=   0.1s\n",
            "[CV 3/5] END C=1.333521432163324, kernel=linear;, score=0.848 total time=   0.1s\n",
            "[CV 4/5] END C=1.333521432163324, kernel=linear;, score=0.823 total time=   0.1s\n",
            "[CV 5/5] END C=1.333521432163324, kernel=linear;, score=0.848 total time=   0.1s\n",
            "[CV 1/5] END C=1.7782794100389228, kernel=linear;, score=0.895 total time=   0.1s\n",
            "[CV 2/5] END C=1.7782794100389228, kernel=linear;, score=0.875 total time=   0.1s\n",
            "[CV 3/5] END C=1.7782794100389228, kernel=linear;, score=0.852 total time=   0.1s\n",
            "[CV 4/5] END C=1.7782794100389228, kernel=linear;, score=0.827 total time=   0.1s\n",
            "[CV 5/5] END C=1.7782794100389228, kernel=linear;, score=0.844 total time=   0.1s\n",
            "[CV 1/5] END C=2.371373705661655, kernel=linear;, score=0.895 total time=   0.2s\n",
            "[CV 2/5] END C=2.371373705661655, kernel=linear;, score=0.869 total time=   0.1s\n",
            "[CV 3/5] END C=2.371373705661655, kernel=linear;, score=0.844 total time=   0.2s\n",
            "[CV 4/5] END C=2.371373705661655, kernel=linear;, score=0.818 total time=   0.1s\n",
            "[CV 5/5] END C=2.371373705661655, kernel=linear;, score=0.840 total time=   0.2s\n",
            "[CV 1/5] END C=3.1622776601683795, kernel=linear;, score=0.904 total time=   0.2s\n",
            "[CV 2/5] END C=3.1622776601683795, kernel=linear;, score=0.869 total time=   0.2s\n",
            "[CV 3/5] END C=3.1622776601683795, kernel=linear;, score=0.844 total time=   0.2s\n",
            "[CV 4/5] END C=3.1622776601683795, kernel=linear;, score=0.805 total time=   0.2s\n",
            "[CV 5/5] END C=3.1622776601683795, kernel=linear;, score=0.840 total time=   0.3s\n",
            "[CV 1/5] END C=4.216965034285822, kernel=linear;, score=0.904 total time=   0.2s\n",
            "[CV 2/5] END C=4.216965034285822, kernel=linear;, score=0.864 total time=   0.2s\n",
            "[CV 3/5] END C=4.216965034285822, kernel=linear;, score=0.844 total time=   0.3s\n",
            "[CV 4/5] END C=4.216965034285822, kernel=linear;, score=0.810 total time=   0.2s\n",
            "[CV 5/5] END C=4.216965034285822, kernel=linear;, score=0.848 total time=   0.3s\n",
            "[CV 1/5] END C=5.623413251903491, kernel=linear;, score=0.886 total time=   0.3s\n",
            "[CV 2/5] END C=5.623413251903491, kernel=linear;, score=0.869 total time=   0.3s\n",
            "[CV 3/5] END C=5.623413251903491, kernel=linear;, score=0.848 total time=   0.3s\n",
            "[CV 4/5] END C=5.623413251903491, kernel=linear;, score=0.806 total time=   0.2s\n",
            "[CV 5/5] END C=5.623413251903491, kernel=linear;, score=0.852 total time=   0.3s\n",
            "[CV 1/5] END C=7.498942093324558, kernel=linear;, score=0.860 total time=   0.4s\n",
            "[CV 2/5] END C=7.498942093324558, kernel=linear;, score=0.864 total time=   0.4s\n",
            "[CV 3/5] END C=7.498942093324558, kernel=linear;, score=0.856 total time=   0.4s\n",
            "[CV 4/5] END C=7.498942093324558, kernel=linear;, score=0.806 total time=   0.3s\n",
            "[CV 5/5] END C=7.498942093324558, kernel=linear;, score=0.856 total time=   0.3s\n",
            "[CV 1/5] END .............C=10.0, kernel=linear;, score=0.869 total time=   0.6s\n",
            "[CV 2/5] END .............C=10.0, kernel=linear;, score=0.864 total time=   0.4s\n",
            "[CV 3/5] END .............C=10.0, kernel=linear;, score=0.856 total time=   0.6s\n",
            "[CV 4/5] END .............C=10.0, kernel=linear;, score=0.798 total time=   0.4s\n",
            "[CV 5/5] END .............C=10.0, kernel=linear;, score=0.858 total time=   0.5s\n",
            "[CV 1/5] END C=13.33521432163324, kernel=linear;, score=0.869 total time=   0.9s\n",
            "[CV 2/5] END C=13.33521432163324, kernel=linear;, score=0.872 total time=   0.7s\n",
            "[CV 3/5] END C=13.33521432163324, kernel=linear;, score=0.852 total time=   0.7s\n",
            "[CV 4/5] END C=13.33521432163324, kernel=linear;, score=0.802 total time=   0.5s\n",
            "[CV 5/5] END C=13.33521432163324, kernel=linear;, score=0.854 total time=   0.5s\n",
            "[CV 1/5] END C=17.78279410038923, kernel=linear;, score=0.864 total time=   1.0s\n",
            "[CV 2/5] END C=17.78279410038923, kernel=linear;, score=0.882 total time=   0.9s\n",
            "[CV 3/5] END C=17.78279410038923, kernel=linear;, score=0.848 total time=   1.0s\n",
            "[CV 4/5] END C=17.78279410038923, kernel=linear;, score=0.806 total time=   0.9s\n",
            "[CV 5/5] END C=17.78279410038923, kernel=linear;, score=0.854 total time=   0.7s\n",
            "[CV 1/5] END C=23.71373705661655, kernel=linear;, score=0.864 total time=   1.2s\n",
            "[CV 2/5] END C=23.71373705661655, kernel=linear;, score=0.882 total time=   0.9s\n",
            "[CV 3/5] END C=23.71373705661655, kernel=linear;, score=0.839 total time=   2.1s\n",
            "[CV 4/5] END C=23.71373705661655, kernel=linear;, score=0.802 total time=   0.9s\n",
            "[CV 5/5] END C=23.71373705661655, kernel=linear;, score=0.853 total time=   0.9s\n",
            "[CV 1/5] END C=31.622776601683793, kernel=linear;, score=0.869 total time=   1.3s\n",
            "[CV 2/5] END C=31.622776601683793, kernel=linear;, score=0.882 total time=   1.7s\n",
            "[CV 3/5] END C=31.622776601683793, kernel=linear;, score=0.843 total time=   1.7s\n",
            "[CV 4/5] END C=31.622776601683793, kernel=linear;, score=0.806 total time=   1.1s\n",
            "[CV 5/5] END C=31.622776601683793, kernel=linear;, score=0.853 total time=   1.2s\n",
            "[CV 1/5] END C=42.169650342858226, kernel=linear;, score=0.865 total time=   2.1s\n",
            "[CV 2/5] END C=42.169650342858226, kernel=linear;, score=0.887 total time=   2.3s\n",
            "[CV 3/5] END C=42.169650342858226, kernel=linear;, score=0.847 total time=   2.7s\n",
            "[CV 4/5] END C=42.169650342858226, kernel=linear;, score=0.806 total time=   2.0s\n",
            "[CV 5/5] END C=42.169650342858226, kernel=linear;, score=0.845 total time=   1.1s\n",
            "[CV 1/5] END C=56.23413251903491, kernel=linear;, score=0.873 total time=   2.7s\n",
            "[CV 2/5] END C=56.23413251903491, kernel=linear;, score=0.882 total time=   3.1s\n",
            "[CV 3/5] END C=56.23413251903491, kernel=linear;, score=0.847 total time=   3.3s\n",
            "[CV 4/5] END C=56.23413251903491, kernel=linear;, score=0.802 total time=   2.1s\n",
            "[CV 5/5] END C=56.23413251903491, kernel=linear;, score=0.845 total time=   1.9s\n",
            "[CV 1/5] END C=74.98942093324558, kernel=linear;, score=0.873 total time=   3.0s\n",
            "[CV 2/5] END C=74.98942093324558, kernel=linear;, score=0.883 total time=   3.5s\n",
            "[CV 3/5] END C=74.98942093324558, kernel=linear;, score=0.852 total time=   4.1s\n",
            "[CV 4/5] END C=74.98942093324558, kernel=linear;, score=0.815 total time=   2.8s\n",
            "[CV 5/5] END C=74.98942093324558, kernel=linear;, score=0.849 total time=   2.9s\n",
            "[CV 1/5] END ............C=100.0, kernel=linear;, score=0.869 total time=   4.3s\n",
            "[CV 2/5] END ............C=100.0, kernel=linear;, score=0.879 total time=   4.4s\n",
            "[CV 3/5] END ............C=100.0, kernel=linear;, score=0.856 total time=   4.8s\n",
            "[CV 4/5] END ............C=100.0, kernel=linear;, score=0.815 total time=   4.8s\n",
            "[CV 5/5] END ............C=100.0, kernel=linear;, score=0.831 total time=   4.4s\n",
            "[CV 1/5] END C=133.3521432163324, kernel=linear;, score=0.860 total time=   4.7s\n",
            "[CV 2/5] END C=133.3521432163324, kernel=linear;, score=0.878 total time=   7.1s\n",
            "[CV 3/5] END C=133.3521432163324, kernel=linear;, score=0.856 total time=   7.5s\n",
            "[CV 4/5] END C=133.3521432163324, kernel=linear;, score=0.793 total time=   7.3s\n",
            "[CV 5/5] END C=133.3521432163324, kernel=linear;, score=0.845 total time=   7.6s\n",
            "[CV 1/5] END C=177.82794100389228, kernel=linear;, score=0.856 total time=  10.3s\n",
            "[CV 2/5] END C=177.82794100389228, kernel=linear;, score=0.875 total time=   6.2s\n",
            "[CV 3/5] END C=177.82794100389228, kernel=linear;, score=0.852 total time=   7.8s\n",
            "[CV 4/5] END C=177.82794100389228, kernel=linear;, score=0.798 total time=   9.8s\n",
            "[CV 5/5] END C=177.82794100389228, kernel=linear;, score=0.837 total time=   8.0s\n",
            "[CV 1/5] END C=237.13737056616552, kernel=linear;, score=0.860 total time=  10.6s\n",
            "[CV 2/5] END C=237.13737056616552, kernel=linear;, score=0.875 total time=  10.3s\n",
            "[CV 3/5] END C=237.13737056616552, kernel=linear;, score=0.852 total time=  17.6s\n",
            "[CV 4/5] END C=237.13737056616552, kernel=linear;, score=0.802 total time=  20.0s\n",
            "[CV 5/5] END C=237.13737056616552, kernel=linear;, score=0.832 total time=  14.8s\n",
            "[CV 1/5] END C=316.22776601683796, kernel=linear;, score=0.860 total time=  12.5s\n",
            "[CV 2/5] END C=316.22776601683796, kernel=linear;, score=0.861 total time=  17.4s\n",
            "[CV 3/5] END C=316.22776601683796, kernel=linear;, score=0.851 total time=  27.9s\n",
            "[CV 4/5] END C=316.22776601683796, kernel=linear;, score=0.807 total time=  15.6s\n",
            "[CV 5/5] END C=316.22776601683796, kernel=linear;, score=0.827 total time=  17.3s\n",
            "[CV 1/5] END C=421.6965034285823, kernel=linear;, score=0.860 total time=  19.3s\n",
            "[CV 2/5] END C=421.6965034285823, kernel=linear;, score=0.866 total time=  19.0s\n",
            "[CV 3/5] END C=421.6965034285823, kernel=linear;, score=0.842 total time=  36.9s\n",
            "[CV 4/5] END C=421.6965034285823, kernel=linear;, score=0.811 total time=  18.4s\n",
            "[CV 5/5] END C=421.6965034285823, kernel=linear;, score=0.837 total time=  19.1s\n",
            "[CV 1/5] END .C=562.341325190349, kernel=linear;, score=0.865 total time=  31.8s\n",
            "[CV 2/5] END .C=562.341325190349, kernel=linear;, score=0.861 total time=  26.2s\n",
            "[CV 3/5] END .C=562.341325190349, kernel=linear;, score=0.842 total time=  36.5s\n",
            "[CV 4/5] END .C=562.341325190349, kernel=linear;, score=0.815 total time=  26.9s\n",
            "[CV 5/5] END .C=562.341325190349, kernel=linear;, score=0.836 total time=  30.1s\n",
            "[CV 1/5] END C=749.8942093324558, kernel=linear;, score=0.861 total time=  37.3s\n",
            "[CV 2/5] END C=749.8942093324558, kernel=linear;, score=0.861 total time=  41.1s\n",
            "[CV 3/5] END C=749.8942093324558, kernel=linear;, score=0.842 total time=  41.3s\n",
            "[CV 4/5] END C=749.8942093324558, kernel=linear;, score=0.820 total time=  49.5s\n",
            "[CV 5/5] END C=749.8942093324558, kernel=linear;, score=0.823 total time=  34.9s\n",
            "[CV 1/5] END ...........C=1000.0, kernel=linear;, score=0.857 total time=  51.6s\n",
            "[CV 2/5] END ...........C=1000.0, kernel=linear;, score=0.858 total time=  48.3s\n",
            "[CV 3/5] END ...........C=1000.0, kernel=linear;, score=0.842 total time= 1.4min\n",
            "[CV 4/5] END ...........C=1000.0, kernel=linear;, score=0.815 total time=  48.6s\n",
            "[CV 5/5] END ...........C=1000.0, kernel=linear;, score=0.823 total time=  48.8s\n",
            "[CV 1/5] END .................C=1.0, kernel=rbf;, score=0.950 total time=   0.0s\n",
            "[CV 2/5] END .................C=1.0, kernel=rbf;, score=0.963 total time=   0.0s\n",
            "[CV 3/5] END .................C=1.0, kernel=rbf;, score=0.958 total time=   0.0s\n",
            "[CV 4/5] END .................C=1.0, kernel=rbf;, score=0.941 total time=   0.0s\n",
            "[CV 5/5] END .................C=1.0, kernel=rbf;, score=0.954 total time=   0.0s\n",
            "[CV 1/5] END ...C=1.333521432163324, kernel=rbf;, score=0.954 total time=   0.0s\n",
            "[CV 2/5] END ...C=1.333521432163324, kernel=rbf;, score=0.967 total time=   0.0s\n",
            "[CV 3/5] END ...C=1.333521432163324, kernel=rbf;, score=0.954 total time=   0.0s\n",
            "[CV 4/5] END ...C=1.333521432163324, kernel=rbf;, score=0.941 total time=   0.0s\n",
            "[CV 5/5] END ...C=1.333521432163324, kernel=rbf;, score=0.959 total time=   0.0s\n",
            "[CV 1/5] END ..C=1.7782794100389228, kernel=rbf;, score=0.954 total time=   0.0s\n",
            "[CV 2/5] END ..C=1.7782794100389228, kernel=rbf;, score=0.958 total time=   0.0s\n",
            "[CV 3/5] END ..C=1.7782794100389228, kernel=rbf;, score=0.954 total time=   0.0s\n",
            "[CV 4/5] END ..C=1.7782794100389228, kernel=rbf;, score=0.955 total time=   0.0s\n",
            "[CV 5/5] END ..C=1.7782794100389228, kernel=rbf;, score=0.959 total time=   0.0s\n",
            "[CV 1/5] END ...C=2.371373705661655, kernel=rbf;, score=0.950 total time=   0.0s\n",
            "[CV 2/5] END ...C=2.371373705661655, kernel=rbf;, score=0.953 total time=   0.0s\n",
            "[CV 3/5] END ...C=2.371373705661655, kernel=rbf;, score=0.958 total time=   0.0s\n",
            "[CV 4/5] END ...C=2.371373705661655, kernel=rbf;, score=0.950 total time=   0.0s\n",
            "[CV 5/5] END ...C=2.371373705661655, kernel=rbf;, score=0.954 total time=   0.0s\n",
            "[CV 1/5] END ..C=3.1622776601683795, kernel=rbf;, score=0.950 total time=   0.0s\n",
            "[CV 2/5] END ..C=3.1622776601683795, kernel=rbf;, score=0.958 total time=   0.0s\n",
            "[CV 3/5] END ..C=3.1622776601683795, kernel=rbf;, score=0.958 total time=   0.0s\n",
            "[CV 4/5] END ..C=3.1622776601683795, kernel=rbf;, score=0.950 total time=   0.0s\n",
            "[CV 5/5] END ..C=3.1622776601683795, kernel=rbf;, score=0.954 total time=   0.0s\n",
            "[CV 1/5] END ...C=4.216965034285822, kernel=rbf;, score=0.950 total time=   0.0s\n",
            "[CV 2/5] END ...C=4.216965034285822, kernel=rbf;, score=0.958 total time=   0.0s\n",
            "[CV 3/5] END ...C=4.216965034285822, kernel=rbf;, score=0.958 total time=   0.0s\n",
            "[CV 4/5] END ...C=4.216965034285822, kernel=rbf;, score=0.959 total time=   0.0s\n",
            "[CV 5/5] END ...C=4.216965034285822, kernel=rbf;, score=0.972 total time=   0.0s\n",
            "[CV 1/5] END ...C=5.623413251903491, kernel=rbf;, score=0.954 total time=   0.0s\n",
            "[CV 2/5] END ...C=5.623413251903491, kernel=rbf;, score=0.963 total time=   0.0s\n",
            "[CV 3/5] END ...C=5.623413251903491, kernel=rbf;, score=0.958 total time=   0.0s\n",
            "[CV 4/5] END ...C=5.623413251903491, kernel=rbf;, score=0.959 total time=   0.0s\n",
            "[CV 5/5] END ...C=5.623413251903491, kernel=rbf;, score=0.967 total time=   0.0s\n",
            "[CV 1/5] END ...C=7.498942093324558, kernel=rbf;, score=0.954 total time=   0.0s\n",
            "[CV 2/5] END ...C=7.498942093324558, kernel=rbf;, score=0.967 total time=   0.0s\n",
            "[CV 3/5] END ...C=7.498942093324558, kernel=rbf;, score=0.963 total time=   0.0s\n",
            "[CV 4/5] END ...C=7.498942093324558, kernel=rbf;, score=0.963 total time=   0.0s\n",
            "[CV 5/5] END ...C=7.498942093324558, kernel=rbf;, score=0.962 total time=   0.0s\n",
            "[CV 1/5] END ................C=10.0, kernel=rbf;, score=0.954 total time=   0.0s\n",
            "[CV 2/5] END ................C=10.0, kernel=rbf;, score=0.967 total time=   0.0s\n",
            "[CV 3/5] END ................C=10.0, kernel=rbf;, score=0.958 total time=   0.0s\n",
            "[CV 4/5] END ................C=10.0, kernel=rbf;, score=0.968 total time=   0.0s\n",
            "[CV 5/5] END ................C=10.0, kernel=rbf;, score=0.963 total time=   0.0s\n",
            "[CV 1/5] END ...C=13.33521432163324, kernel=rbf;, score=0.954 total time=   0.0s\n",
            "[CV 2/5] END ...C=13.33521432163324, kernel=rbf;, score=0.967 total time=   0.0s\n",
            "[CV 3/5] END ...C=13.33521432163324, kernel=rbf;, score=0.958 total time=   0.0s\n",
            "[CV 4/5] END ...C=13.33521432163324, kernel=rbf;, score=0.968 total time=   0.0s\n",
            "[CV 5/5] END ...C=13.33521432163324, kernel=rbf;, score=0.962 total time=   0.0s\n",
            "[CV 1/5] END ...C=17.78279410038923, kernel=rbf;, score=0.945 total time=   0.0s\n",
            "[CV 2/5] END ...C=17.78279410038923, kernel=rbf;, score=0.963 total time=   0.0s\n",
            "[CV 3/5] END ...C=17.78279410038923, kernel=rbf;, score=0.958 total time=   0.0s\n",
            "[CV 4/5] END ...C=17.78279410038923, kernel=rbf;, score=0.963 total time=   0.0s\n",
            "[CV 5/5] END ...C=17.78279410038923, kernel=rbf;, score=0.962 total time=   0.0s\n",
            "[CV 1/5] END ...C=23.71373705661655, kernel=rbf;, score=0.945 total time=   0.0s\n",
            "[CV 2/5] END ...C=23.71373705661655, kernel=rbf;, score=0.963 total time=   0.0s\n",
            "[CV 3/5] END ...C=23.71373705661655, kernel=rbf;, score=0.963 total time=   0.0s\n",
            "[CV 4/5] END ...C=23.71373705661655, kernel=rbf;, score=0.958 total time=   0.0s\n",
            "[CV 5/5] END ...C=23.71373705661655, kernel=rbf;, score=0.967 total time=   0.0s\n",
            "[CV 1/5] END ..C=31.622776601683793, kernel=rbf;, score=0.940 total time=   0.0s\n",
            "[CV 2/5] END ..C=31.622776601683793, kernel=rbf;, score=0.963 total time=   0.0s\n",
            "[CV 3/5] END ..C=31.622776601683793, kernel=rbf;, score=0.968 total time=   0.0s\n",
            "[CV 4/5] END ..C=31.622776601683793, kernel=rbf;, score=0.958 total time=   0.0s\n",
            "[CV 5/5] END ..C=31.622776601683793, kernel=rbf;, score=0.958 total time=   0.0s\n",
            "[CV 1/5] END ..C=42.169650342858226, kernel=rbf;, score=0.945 total time=   0.0s\n",
            "[CV 2/5] END ..C=42.169650342858226, kernel=rbf;, score=0.963 total time=   0.0s\n",
            "[CV 3/5] END ..C=42.169650342858226, kernel=rbf;, score=0.968 total time=   0.0s\n",
            "[CV 4/5] END ..C=42.169650342858226, kernel=rbf;, score=0.963 total time=   0.0s\n",
            "[CV 5/5] END ..C=42.169650342858226, kernel=rbf;, score=0.948 total time=   0.0s\n",
            "[CV 1/5] END ...C=56.23413251903491, kernel=rbf;, score=0.945 total time=   0.0s\n",
            "[CV 2/5] END ...C=56.23413251903491, kernel=rbf;, score=0.967 total time=   0.0s\n",
            "[CV 3/5] END ...C=56.23413251903491, kernel=rbf;, score=0.963 total time=   0.0s\n",
            "[CV 4/5] END ...C=56.23413251903491, kernel=rbf;, score=0.954 total time=   0.0s\n",
            "[CV 5/5] END ...C=56.23413251903491, kernel=rbf;, score=0.948 total time=   0.0s\n",
            "[CV 1/5] END ...C=74.98942093324558, kernel=rbf;, score=0.949 total time=   0.0s\n",
            "[CV 2/5] END ...C=74.98942093324558, kernel=rbf;, score=0.967 total time=   0.0s\n",
            "[CV 3/5] END ...C=74.98942093324558, kernel=rbf;, score=0.967 total time=   0.0s\n",
            "[CV 4/5] END ...C=74.98942093324558, kernel=rbf;, score=0.945 total time=   0.0s\n",
            "[CV 5/5] END ...C=74.98942093324558, kernel=rbf;, score=0.943 total time=   0.0s\n",
            "[CV 1/5] END ...............C=100.0, kernel=rbf;, score=0.949 total time=   0.0s\n",
            "[CV 2/5] END ...............C=100.0, kernel=rbf;, score=0.967 total time=   0.0s\n",
            "[CV 3/5] END ...............C=100.0, kernel=rbf;, score=0.963 total time=   0.0s\n",
            "[CV 4/5] END ...............C=100.0, kernel=rbf;, score=0.945 total time=   0.0s\n",
            "[CV 5/5] END ...............C=100.0, kernel=rbf;, score=0.948 total time=   0.0s\n",
            "[CV 1/5] END ...C=133.3521432163324, kernel=rbf;, score=0.945 total time=   0.0s\n",
            "[CV 2/5] END ...C=133.3521432163324, kernel=rbf;, score=0.967 total time=   0.0s\n",
            "[CV 3/5] END ...C=133.3521432163324, kernel=rbf;, score=0.954 total time=   0.0s\n",
            "[CV 4/5] END ...C=133.3521432163324, kernel=rbf;, score=0.949 total time=   0.0s\n",
            "[CV 5/5] END ...C=133.3521432163324, kernel=rbf;, score=0.957 total time=   0.0s\n",
            "[CV 1/5] END ..C=177.82794100389228, kernel=rbf;, score=0.954 total time=   0.0s\n",
            "[CV 2/5] END ..C=177.82794100389228, kernel=rbf;, score=0.967 total time=   0.0s\n",
            "[CV 3/5] END ..C=177.82794100389228, kernel=rbf;, score=0.954 total time=   0.0s\n",
            "[CV 4/5] END ..C=177.82794100389228, kernel=rbf;, score=0.949 total time=   0.0s\n",
            "[CV 5/5] END ..C=177.82794100389228, kernel=rbf;, score=0.953 total time=   0.0s\n",
            "[CV 1/5] END ..C=237.13737056616552, kernel=rbf;, score=0.949 total time=   0.0s\n",
            "[CV 2/5] END ..C=237.13737056616552, kernel=rbf;, score=0.963 total time=   0.0s\n",
            "[CV 3/5] END ..C=237.13737056616552, kernel=rbf;, score=0.949 total time=   0.0s\n",
            "[CV 4/5] END ..C=237.13737056616552, kernel=rbf;, score=0.949 total time=   0.0s\n",
            "[CV 5/5] END ..C=237.13737056616552, kernel=rbf;, score=0.953 total time=   0.0s\n",
            "[CV 1/5] END ..C=316.22776601683796, kernel=rbf;, score=0.949 total time=   0.0s\n",
            "[CV 2/5] END ..C=316.22776601683796, kernel=rbf;, score=0.963 total time=   0.0s\n",
            "[CV 3/5] END ..C=316.22776601683796, kernel=rbf;, score=0.954 total time=   0.0s\n",
            "[CV 4/5] END ..C=316.22776601683796, kernel=rbf;, score=0.949 total time=   0.0s\n",
            "[CV 5/5] END ..C=316.22776601683796, kernel=rbf;, score=0.948 total time=   0.0s\n",
            "[CV 1/5] END ...C=421.6965034285823, kernel=rbf;, score=0.949 total time=   0.0s\n",
            "[CV 2/5] END ...C=421.6965034285823, kernel=rbf;, score=0.958 total time=   0.0s\n",
            "[CV 3/5] END ...C=421.6965034285823, kernel=rbf;, score=0.958 total time=   0.0s\n",
            "[CV 4/5] END ...C=421.6965034285823, kernel=rbf;, score=0.945 total time=   0.0s\n",
            "[CV 5/5] END ...C=421.6965034285823, kernel=rbf;, score=0.948 total time=   0.0s\n",
            "[CV 1/5] END ....C=562.341325190349, kernel=rbf;, score=0.949 total time=   0.0s\n",
            "[CV 2/5] END ....C=562.341325190349, kernel=rbf;, score=0.958 total time=   0.0s\n",
            "[CV 3/5] END ....C=562.341325190349, kernel=rbf;, score=0.958 total time=   0.0s\n",
            "[CV 4/5] END ....C=562.341325190349, kernel=rbf;, score=0.931 total time=   0.0s\n",
            "[CV 5/5] END ....C=562.341325190349, kernel=rbf;, score=0.948 total time=   0.0s\n",
            "[CV 1/5] END ...C=749.8942093324558, kernel=rbf;, score=0.949 total time=   0.0s\n",
            "[CV 2/5] END ...C=749.8942093324558, kernel=rbf;, score=0.958 total time=   0.0s\n",
            "[CV 3/5] END ...C=749.8942093324558, kernel=rbf;, score=0.958 total time=   0.0s\n",
            "[CV 4/5] END ...C=749.8942093324558, kernel=rbf;, score=0.936 total time=   0.0s\n",
            "[CV 5/5] END ...C=749.8942093324558, kernel=rbf;, score=0.948 total time=   0.0s\n",
            "[CV 1/5] END ..............C=1000.0, kernel=rbf;, score=0.949 total time=   0.0s\n",
            "[CV 2/5] END ..............C=1000.0, kernel=rbf;, score=0.963 total time=   0.0s\n",
            "[CV 3/5] END ..............C=1000.0, kernel=rbf;, score=0.963 total time=   0.0s\n",
            "[CV 4/5] END ..............C=1000.0, kernel=rbf;, score=0.936 total time=   0.0s\n",
            "[CV 5/5] END ..............C=1000.0, kernel=rbf;, score=0.948 total time=   0.0s\n"
          ]
        },
        {
          "output_type": "execute_result",
          "data": {
            "text/plain": [
              "GridSearchCV(cv=5,\n",
              "             estimator=SVC(class_weight={'C': 3, 'Other': 8, 'S': 2, 'X': 5}),\n",
              "             param_grid=[{'C': array([   1.        ,    1.33352143,    1.77827941,    2.37137371,\n",
              "          3.16227766,    4.21696503,    5.62341325,    7.49894209,\n",
              "         10.        ,   13.33521432,   17.7827941 ,   23.71373706,\n",
              "         31.6227766 ,   42.16965034,   56.23413252,   74.98942093,\n",
              "        100.        ,  133.35214322,  177.827941  ,  237.13737057,\n",
              "        316.22776602,  421.69650343,  562.34132519,  749...\n",
              "                         {'C': array([   1.        ,    1.33352143,    1.77827941,    2.37137371,\n",
              "          3.16227766,    4.21696503,    5.62341325,    7.49894209,\n",
              "         10.        ,   13.33521432,   17.7827941 ,   23.71373706,\n",
              "         31.6227766 ,   42.16965034,   56.23413252,   74.98942093,\n",
              "        100.        ,  133.35214322,  177.827941  ,  237.13737057,\n",
              "        316.22776602,  421.69650343,  562.34132519,  749.89420933,\n",
              "       1000.        ]),\n",
              "                          'kernel': ['rbf']}],\n",
              "             scoring=make_scorer(f1_score, average=weighted), verbose=3)"
            ]
          },
          "metadata": {},
          "execution_count": 63
        }
      ]
    },
    {
      "cell_type": "code",
      "source": [
        "# Let's print some SVM results\n",
        "final_clf = wclf.best_estimator_\n",
        "\n",
        "print(f\"Kernel with the best result: {final_clf.kernel}\")\n",
        "print(f\"SVM information: {final_clf}\")"
      ],
      "metadata": {
        "colab": {
          "base_uri": "https://localhost:8080/"
        },
        "id": "qYT1ELzEkXyB",
        "outputId": "048b6ccd-f049-4ac3-dbdc-d9543247a3f1"
      },
      "execution_count": 64,
      "outputs": [
        {
          "output_type": "stream",
          "name": "stdout",
          "text": [
            "Kernel with the best result: rbf\n",
            "SVM information: SVC(C=10.0, class_weight={'C': 3, 'Other': 8, 'S': 2, 'X': 5})\n"
          ]
        }
      ]
    },
    {
      "cell_type": "code",
      "source": [
        "# Scale the testing data ...\n",
        "X_test_scaled = scaler.transform(X_test)\n",
        "\n",
        "# ... and perform a predicition\n",
        "y_test_pred = final_clf.predict(X_test_scaled)"
      ],
      "metadata": {
        "id": "NEWYMyzakaQB"
      },
      "execution_count": 65,
      "outputs": []
    },
    {
      "cell_type": "code",
      "source": [
        "# Import the confusion matrix and perform the computation\n",
        "from sklearn.metrics import confusion_matrix\n",
        "conf_mat = confusion_matrix(y_test, y_test_pred, labels=[\"C\", \"S\", \"X\", \"Other\"])\n",
        "\n",
        "print(conf_mat)"
      ],
      "metadata": {
        "colab": {
          "base_uri": "https://localhost:8080/"
        },
        "id": "6FWR_CiPkbg9",
        "outputId": "3b4293a3-e30b-47d1-c510-e41eb6ce569e"
      },
      "execution_count": 66,
      "outputs": [
        {
          "output_type": "stream",
          "name": "stdout",
          "text": [
            "[[ 78   0   1   0]\n",
            " [  0 109   0   1]\n",
            " [  2   0  43   3]\n",
            " [  0   1   1  29]]\n"
          ]
        }
      ]
    },
    {
      "cell_type": "code",
      "source": [
        "# For a better visualisation, let's plot the confusion matrix\n",
        "import matplotlib.pyplot as plt  \n",
        "from sklearn.metrics import plot_confusion_matrix\n",
        "\n",
        "plot_confusion_matrix(final_clf, X_test_scaled, y_test, values_format='d')  \n",
        "plt.show()  "
      ],
      "metadata": {
        "colab": {
          "base_uri": "https://localhost:8080/",
          "height": 350
        },
        "id": "hdWWbDu1kdud",
        "outputId": "57b6b86f-7bcd-4ae3-8159-0d6bb04c7d9e"
      },
      "execution_count": 67,
      "outputs": [
        {
          "output_type": "stream",
          "name": "stderr",
          "text": [
            "/usr/local/lib/python3.7/dist-packages/sklearn/utils/deprecation.py:87: FutureWarning: Function plot_confusion_matrix is deprecated; Function `plot_confusion_matrix` is deprecated in 1.0 and will be removed in 1.2. Use one of the class methods: ConfusionMatrixDisplay.from_predictions or ConfusionMatrixDisplay.from_estimator.\n",
            "  warnings.warn(msg, category=FutureWarning)\n"
          ]
        },
        {
          "output_type": "display_data",
          "data": {
            "image/png": "[encoded data removed]",
            "text/plain": [
              "<Figure size 432x288 with 2 Axes>"
            ]
          },
          "metadata": {}
        }
      ]
    },
    {
      "cell_type": "code",
      "source": [
        "# A combined score\n",
        "f1_score = round(sklearn.metrics.f1_score(y_test, y_test_pred, average=\"weighted\"), 3)\n",
        "print(f\"F1 Score: {f1_score}\")"
      ],
      "metadata": {
        "colab": {
          "base_uri": "https://localhost:8080/"
        },
        "id": "KpCSpuQHkfDG",
        "outputId": "8470dd64-b8b8-4bd8-c473-4d446d455a3a"
      },
      "execution_count": 68,
      "outputs": [
        {
          "output_type": "stream",
          "name": "stdout",
          "text": [
            "F1 Score: 0.966\n"
          ]
        }
      ]
    }
  ]
}